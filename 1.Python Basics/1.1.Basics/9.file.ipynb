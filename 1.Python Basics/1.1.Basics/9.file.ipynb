{
 "cells": [
  {
   "cell_type": "code",
   "execution_count": 6,
   "id": "1b18689f",
   "metadata": {},
   "outputs": [
    {
     "name": "stdout",
     "output_type": "stream",
     "text": [
      "hello \n",
      "my name is\n",
      "ramesh \n",
      "i \n",
      " am \n",
      " very good\n",
      " \n"
     ]
    }
   ],
   "source": [
    "# Working with files in Python\n",
    "with open('example.txt', 'r') as file: \n",
    "    content= file.read()\n",
    "    print(content)"
   ]
  },
  {
   "cell_type": "code",
   "execution_count": 9,
   "id": "272da110",
   "metadata": {},
   "outputs": [
    {
     "name": "stdout",
     "output_type": "stream",
     "text": [
      "hello\n",
      "my name is\n",
      "ramesh\n",
      "i\n",
      "am\n",
      "very good\n",
      "\n"
     ]
    }
   ],
   "source": [
    "with open('example.txt', 'r') as file: \n",
    "    for line in file:\n",
    "        print(line.strip())"
   ]
  },
  {
   "cell_type": "code",
   "execution_count": 10,
   "id": "7f2d94ea",
   "metadata": {},
   "outputs": [],
   "source": [
    "lines = [\"First line\", \"Second line\", \"Third line\"]\n",
    "with open('output.txt', 'w') as file:\n",
    "    for line in lines:\n",
    "        file.write(line + '\\n')"
   ]
  },
  {
   "cell_type": "code",
   "execution_count": 2,
   "id": "05e0187f",
   "metadata": {},
   "outputs": [
    {
     "name": "stdout",
     "output_type": "stream",
     "text": [
      "Absolute path: /Users/ramchandraghmire/Desktop/Data Analysis/1.Python Basics/example.txt\n"
     ]
    }
   ],
   "source": [
    "import os\n",
    "abs_path = os.path.abspath('example.txt')\n",
    "print(f\"Absolute path: {abs_path}\")"
   ]
  },
  {
   "cell_type": "code",
   "execution_count": null,
   "id": "428d7a50",
   "metadata": {},
   "outputs": [],
   "source": []
  }
 ],
 "metadata": {
  "kernelspec": {
   "display_name": "venv",
   "language": "python",
   "name": "python3"
  },
  "language_info": {
   "codemirror_mode": {
    "name": "ipython",
    "version": 3
   },
   "file_extension": ".py",
   "mimetype": "text/x-python",
   "name": "python",
   "nbconvert_exporter": "python",
   "pygments_lexer": "ipython3",
   "version": "3.9.6"
  }
 },
 "nbformat": 4,
 "nbformat_minor": 5
}
