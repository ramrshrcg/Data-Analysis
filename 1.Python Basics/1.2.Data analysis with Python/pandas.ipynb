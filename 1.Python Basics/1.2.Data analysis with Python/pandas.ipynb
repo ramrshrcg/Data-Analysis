{
 "cells": [
  {
   "cell_type": "code",
   "execution_count": 1,
   "id": "bb97e707",
   "metadata": {},
   "outputs": [],
   "source": [
    "# pandas give two primary data structure 1. Series and 2.DataFrame. A Series is a one-dimensional array-like object, while a DataFrame is a two-dimensional, size-mutable, and potentially heterogeneous tabular data structure with labeled axes (rows and columns)."
   ]
  },
  {
   "cell_type": "code",
   "execution_count": 2,
   "id": "dea29599",
   "metadata": {},
   "outputs": [],
   "source": [
    "import pandas as pd"
   ]
  },
  {
   "cell_type": "code",
   "execution_count": 3,
   "id": "fcaa5878",
   "metadata": {},
   "outputs": [
    {
     "name": "stdout",
     "output_type": "stream",
     "text": [
      "Series:\n",
      " 0    10\n",
      "1    20\n",
      "2    30\n",
      "3    40\n",
      "4    50\n",
      "dtype: int64\n"
     ]
    }
   ],
   "source": [
    "# 1. Creating a Series\n",
    "data = [10, 20, 30, 40, 50]\n",
    "series = pd.Series(data) # key is default index 0,1,2,3... \n",
    "print(\"Series:\\n\", series)\n"
   ]
  },
  {
   "cell_type": "code",
   "execution_count": 4,
   "id": "f3a4b56e",
   "metadata": {},
   "outputs": [
    {
     "name": "stdout",
     "output_type": "stream",
     "text": [
      "Series:\n",
      " 0    [10, 20]\n",
      "1    [30, 40]\n",
      "2    [50, 60]\n",
      "dtype: object\n",
      "<class 'pandas.core.series.Series'>\n"
     ]
    }
   ],
   "source": [
    "# 1. Creating a Series\n",
    "data = [[10, 20], [30, 40], [50, 60]]#2D list but it will be treated as 1D list as a single object because Series is 1D\n",
    "series = pd.Series(data)\n",
    "print(\"Series:\\n\", series)\n",
    "print(type(series))\n",
    "\n"
   ]
  },
  {
   "cell_type": "code",
   "execution_count": 5,
   "id": "146f1ad6",
   "metadata": {},
   "outputs": [
    {
     "name": "stdout",
     "output_type": "stream",
     "text": [
      "Series from dictionary:\n",
      " a    10\n",
      "b    20\n",
      "c    30\n",
      "dtype: int64\n"
     ]
    }
   ],
   "source": [
    "# also ewe can create series from dictionary\n",
    "data = {'a': 10, 'b': 20, 'c': 30}\n",
    "series = pd.Series(data)\n",
    "print(\"Series from dictionary:\\n\", series)\n"
   ]
  },
  {
   "cell_type": "code",
   "execution_count": 6,
   "id": "e48469ca",
   "metadata": {},
   "outputs": [
    {
     "name": "stdout",
     "output_type": "stream",
     "text": [
      "i      10\n",
      "ii     20\n",
      "iii    30\n",
      "dtype: int64\n"
     ]
    }
   ],
   "source": [
    "data= [10, 20, 30]\n",
    "index=['i','ii','iii']\n",
    "series= pd.Series(data, index=index)\n",
    "print( series)\n"
   ]
  },
  {
   "cell_type": "code",
   "execution_count": 7,
   "id": "56457e98",
   "metadata": {},
   "outputs": [
    {
     "name": "stdout",
     "output_type": "stream",
     "text": [
      "  Name  Age City\n",
      "0  ram   25  nep\n",
      "1  Bob   30  ind\n",
      "2  sam   35  jpn\n"
     ]
    }
   ],
   "source": [
    "# data frame \n",
    "# create a df from dictionary\n",
    "data = {\n",
    "    'Name': ['ram', 'Bob', 'sam'],\n",
    "    'Age': [25, 30, 35],\n",
    "    'City': ['nep', 'ind', 'jpn']\n",
    "}\n",
    " \n",
    "df= pd.DataFrame(data)\n",
    "print(df)"
   ]
  },
  {
   "cell_type": "code",
   "execution_count": 8,
   "id": "436724f6",
   "metadata": {},
   "outputs": [
    {
     "name": "stdout",
     "output_type": "stream",
     "text": [
      "  Name  Age City\n",
      "0  ram   25  nep\n",
      "1  Bob   30  ind\n",
      "2  sam   35  jpn\n"
     ]
    }
   ],
   "source": [
    "# create df from lost of dictionaries\n",
    "data = [\n",
    "    {'Name': 'ram', 'Age': 25, 'City': 'nep'},\n",
    "    { 'Age': 30, 'City': 'ind','Name': 'Bob',},\n",
    "    {'Name': 'sam', 'Age': 35, 'City': 'jpn'}\n",
    "]\n",
    "namedf = pd.DataFrame(data)\n",
    "print(namedf)"
   ]
  },
  {
   "cell_type": "code",
   "execution_count": 9,
   "id": "5fdf0b85",
   "metadata": {},
   "outputs": [
    {
     "data": {
      "text/html": [
       "<div>\n",
       "<style scoped>\n",
       "    .dataframe tbody tr th:only-of-type {\n",
       "        vertical-align: middle;\n",
       "    }\n",
       "\n",
       "    .dataframe tbody tr th {\n",
       "        vertical-align: top;\n",
       "    }\n",
       "\n",
       "    .dataframe thead th {\n",
       "        text-align: right;\n",
       "    }\n",
       "</style>\n",
       "<table border=\"1\" class=\"dataframe\">\n",
       "  <thead>\n",
       "    <tr style=\"text-align: right;\">\n",
       "      <th></th>\n",
       "      <th>Date</th>\n",
       "      <th>Category</th>\n",
       "      <th>Value</th>\n",
       "      <th>Product</th>\n",
       "      <th>Sales</th>\n",
       "      <th>Region</th>\n",
       "    </tr>\n",
       "  </thead>\n",
       "  <tbody>\n",
       "    <tr>\n",
       "      <th>0</th>\n",
       "      <td>2023-01-01</td>\n",
       "      <td>A</td>\n",
       "      <td>28.0</td>\n",
       "      <td>Product1</td>\n",
       "      <td>754.0</td>\n",
       "      <td>East</td>\n",
       "    </tr>\n",
       "    <tr>\n",
       "      <th>1</th>\n",
       "      <td>2023-01-02</td>\n",
       "      <td>B</td>\n",
       "      <td>39.0</td>\n",
       "      <td>Product3</td>\n",
       "      <td>110.0</td>\n",
       "      <td>North</td>\n",
       "    </tr>\n",
       "    <tr>\n",
       "      <th>2</th>\n",
       "      <td>2023-01-03</td>\n",
       "      <td>C</td>\n",
       "      <td>32.0</td>\n",
       "      <td>Product2</td>\n",
       "      <td>398.0</td>\n",
       "      <td>East</td>\n",
       "    </tr>\n",
       "    <tr>\n",
       "      <th>3</th>\n",
       "      <td>2023-01-04</td>\n",
       "      <td>B</td>\n",
       "      <td>8.0</td>\n",
       "      <td>Product1</td>\n",
       "      <td>522.0</td>\n",
       "      <td>East</td>\n",
       "    </tr>\n",
       "    <tr>\n",
       "      <th>4</th>\n",
       "      <td>2023-01-05</td>\n",
       "      <td>B</td>\n",
       "      <td>26.0</td>\n",
       "      <td>Product3</td>\n",
       "      <td>869.0</td>\n",
       "      <td>North</td>\n",
       "    </tr>\n",
       "  </tbody>\n",
       "</table>\n",
       "</div>"
      ],
      "text/plain": [
       "         Date Category  Value   Product  Sales Region\n",
       "0  2023-01-01        A   28.0  Product1  754.0   East\n",
       "1  2023-01-02        B   39.0  Product3  110.0  North\n",
       "2  2023-01-03        C   32.0  Product2  398.0   East\n",
       "3  2023-01-04        B    8.0  Product1  522.0   East\n",
       "4  2023-01-05        B   26.0  Product3  869.0  North"
      ]
     },
     "execution_count": 9,
     "metadata": {},
     "output_type": "execute_result"
    }
   ],
   "source": [
    "df = pd.read_csv('data.csv').head(5)\n",
    "# print(df.head(n=5))\n",
    "df.head(5)"
   ]
  },
  {
   "cell_type": "code",
   "execution_count": 10,
   "id": "3ccda657",
   "metadata": {},
   "outputs": [
    {
     "data": {
      "text/plain": [
       "pandas.core.frame.DataFrame"
      ]
     },
     "execution_count": 10,
     "metadata": {},
     "output_type": "execute_result"
    }
   ],
   "source": [
    "type(df)"
   ]
  },
  {
   "cell_type": "code",
   "execution_count": 11,
   "id": "45e3df46",
   "metadata": {},
   "outputs": [
    {
     "data": {
      "text/plain": [
       "pandas.core.series.Series"
      ]
     },
     "execution_count": 11,
     "metadata": {},
     "output_type": "execute_result"
    }
   ],
   "source": [
    "type(df['Date'])  # Accessing a single column\n"
   ]
  },
  {
   "cell_type": "code",
   "execution_count": 12,
   "id": "75039b21",
   "metadata": {},
   "outputs": [
    {
     "name": "stdout",
     "output_type": "stream",
     "text": [
      "ram\n"
     ]
    },
    {
     "name": "stderr",
     "output_type": "stream",
     "text": [
      "/var/folders/lq/9807c0hd61d22rh4kpl7pvrc0000gn/T/ipykernel_24547/2663987016.py:2: FutureWarning: Series.__getitem__ treating keys as positions is deprecated. In a future version, integer keys will always be treated as labels (consistent with DataFrame behavior). To access a value by position, use `ser.iloc[pos]`\n",
      "  print(namedf.loc[0][0])  # Accessing a single row by label (index)\n"
     ]
    }
   ],
   "source": [
    "# print(df.loc[0])  # Accessing a single row by label (index)\n",
    "print(namedf.loc[0][0])  # Accessing a single row by label (index)\n"
   ]
  },
  {
   "cell_type": "code",
   "execution_count": 13,
   "id": "81c51fb8",
   "metadata": {},
   "outputs": [
    {
     "name": "stderr",
     "output_type": "stream",
     "text": [
      "/var/folders/lq/9807c0hd61d22rh4kpl7pvrc0000gn/T/ipykernel_24547/1221299728.py:2: FutureWarning: Series.__getitem__ treating keys as positions is deprecated. In a future version, integer keys will always be treated as labels (consistent with DataFrame behavior). To access a value by position, use `ser.iloc[pos]`\n",
      "  namedf.iloc[0][0]  # Accessing a single row by position (index)\n"
     ]
    },
    {
     "data": {
      "text/plain": [
       "'ram'"
      ]
     },
     "execution_count": 13,
     "metadata": {},
     "output_type": "execute_result"
    }
   ],
   "source": [
    "# df.iloc[0]  # Accessing a single row by position (index)\n",
    "namedf.iloc[0][0]  # Accessing a single row by position (index)"
   ]
  },
  {
   "cell_type": "code",
   "execution_count": null,
   "id": "a8eddcf3",
   "metadata": {},
   "outputs": [],
   "source": []
  },
  {
   "cell_type": "markdown",
   "id": "48a892ab",
   "metadata": {},
   "source": [
    "# Understanding `loc` vs `iloc` in Pandas\n",
    "\n",
    "**Key Differences:**\n",
    "- **`loc`**: Label-based indexing (uses index names/labels)\n",
    "- **`iloc`**: Integer position-based indexing (uses numeric positions)\n",
    "\n",
    "**Syntax:**\n",
    "- `df.loc[row_indexer, column_indexer]`\n",
    "- `df.iloc[row_position, column_position]`"
   ]
  },
  {
   "cell_type": "code",
   "execution_count": 14,
   "id": "28457c91",
   "metadata": {},
   "outputs": [
    {
     "name": "stdout",
     "output_type": "stream",
     "text": [
      "Sample DataFrame:\n",
      "         Name  Age     City  Salary\n",
      "emp1    Alice   25      NYC   50000\n",
      "emp2      Bob   30       LA   60000\n",
      "emp3  Charlie   35  Chicago   70000\n",
      "emp4    Diana   28    Miami   55000\n",
      "emp5      Eve   32   Boston   65000\n",
      "\n",
      "DataFrame info:\n",
      "Index: ['emp1', 'emp2', 'emp3', 'emp4', 'emp5']\n",
      "Columns: ['Name', 'Age', 'City', 'Salary']\n"
     ]
    }
   ],
   "source": [
    "# Create a sample DataFrame with custom index for demonstration\n",
    "data = {\n",
    "    'Name': ['Alice', 'Bob', 'Charlie', 'Diana', 'Eve'],\n",
    "    'Age': [25, 30, 35, 28, 32],\n",
    "    'City': ['NYC', 'LA', 'Chicago', 'Miami', 'Boston'],\n",
    "    'Salary': [50000, 60000, 70000, 55000, 65000]\n",
    "}\n",
    "\n",
    "# Custom index labels\n",
    "custom_index = ['emp1', 'emp2', 'emp3', 'emp4', 'emp5']\n",
    "sample_df = pd.DataFrame(data, index=custom_index)\n",
    "print(\"Sample DataFrame:\")\n",
    "print(sample_df)\n",
    "print(\"\\nDataFrame info:\")\n",
    "print(f\"Index: {sample_df.index.tolist()}\")\n",
    "print(f\"Columns: {sample_df.columns.tolist()}\")"
   ]
  },
  {
   "cell_type": "markdown",
   "id": "e0ab48fe",
   "metadata": {},
   "source": [
    "## 1. Using `loc` - Label-based Indexing"
   ]
  },
  {
   "cell_type": "code",
   "execution_count": 15,
   "id": "2be81ce9",
   "metadata": {},
   "outputs": [
    {
     "name": "stdout",
     "output_type": "stream",
     "text": [
      "1. Single row by label (emp2):\n",
      "Name        Bob\n",
      "Age          30\n",
      "City         LA\n",
      "Salary    60000\n",
      "Name: emp2, dtype: object\n",
      "\n",
      "2. Specific cell (emp3, Age):\n",
      "35\n",
      "\n",
      "3. Multiple rows (emp1 and emp3):\n",
      "         Name  Age     City  Salary\n",
      "emp1    Alice   25      NYC   50000\n",
      "emp3  Charlie   35  Chicago   70000\n",
      "\n",
      "4. Specific rows and columns:\n",
      "       Name  Salary\n",
      "emp2    Bob   60000\n",
      "emp4  Diana   55000\n",
      "\n",
      "5. Slice rows from emp2 to emp4:\n",
      "         Name  Age     City  Salary\n",
      "emp2      Bob   30       LA   60000\n",
      "emp3  Charlie   35  Chicago   70000\n",
      "emp4    Diana   28    Miami   55000\n"
     ]
    }
   ],
   "source": [
    "# loc uses INDEX LABELS and COLUMN NAMES\n",
    "\n",
    "# 1. Select single row by label\n",
    "print(\"1. Single row by label (emp2):\")\n",
    "print(sample_df.loc['emp2'])\n",
    "print()\n",
    "\n",
    "# 2. Select specific cell by row and column labels\n",
    "print(\"2. Specific cell (emp3, Age):\")\n",
    "print(sample_df.loc['emp3', 'Age'])\n",
    "print()\n",
    "\n",
    "# 3. Select multiple rows by labels\n",
    "print(\"3. Multiple rows (emp1 and emp3):\")\n",
    "print(sample_df.loc[['emp1', 'emp3']])\n",
    "print()\n",
    "\n",
    "# 4. Select rows and specific columns\n",
    "print(\"4. Specific rows and columns:\")\n",
    "print(sample_df.loc[['emp2', 'emp4'], ['Name', 'Salary']])\n",
    "print()\n",
    "\n",
    "# 5. Slice rows by labels (inclusive on both ends)\n",
    "print(\"5. Slice rows from emp2 to emp4:\")\n",
    "print(sample_df.loc['emp2':'emp4'])  # Note: includes both emp2 and emp4"
   ]
  },
  {
   "cell_type": "markdown",
   "id": "827690b3",
   "metadata": {},
   "source": [
    "## 2. Using `iloc` - Position-based Indexing"
   ]
  },
  {
   "cell_type": "code",
   "execution_count": 16,
   "id": "46f87d96",
   "metadata": {},
   "outputs": [
    {
     "name": "stdout",
     "output_type": "stream",
     "text": [
      "1. Single row by position (row 1):\n",
      "Name        Bob\n",
      "Age          30\n",
      "City         LA\n",
      "Salary    60000\n",
      "Name: emp2, dtype: object\n",
      "\n",
      "2. Specific cell (row 2, column 1):\n",
      "35\n",
      "\n",
      "3. Multiple rows (positions 0 and 2):\n",
      "         Name  Age     City  Salary\n",
      "emp1    Alice   25      NYC   50000\n",
      "emp3  Charlie   35  Chicago   70000\n",
      "\n",
      "4. Specific rows and columns by position:\n",
      "       Name  Salary\n",
      "emp2    Bob   60000\n",
      "emp4  Diana   55000\n",
      "\n",
      "5. Slice rows from position 1 to 3:\n",
      "         Name  Age     City  Salary\n",
      "emp2      Bob   30       LA   60000\n",
      "emp3  Charlie   35  Chicago   70000\n",
      "emp4    Diana   28    Miami   55000\n",
      "\n",
      "6. Last row using negative indexing:\n",
      "Name         Eve\n",
      "Age           32\n",
      "City      Boston\n",
      "Salary     65000\n",
      "Name: emp5, dtype: object\n"
     ]
    }
   ],
   "source": [
    "# iloc uses INTEGER POSITIONS (0-based indexing)\n",
    "\n",
    "# 1. Select single row by position\n",
    "print(\"1. Single row by position (row 1):\")\n",
    "print(sample_df.iloc[1])  # Second row (Bob)\n",
    "print()\n",
    "\n",
    "# 2. Select specific cell by row and column positions\n",
    "print(\"2. Specific cell (row 2, column 1):\")\n",
    "print(sample_df.iloc[2, 1])  # Charlie's Age\n",
    "print()\n",
    "\n",
    "# 3. Select multiple rows by positions\n",
    "print(\"3. Multiple rows (positions 0 and 2):\")\n",
    "print(sample_df.iloc[[0, 2]])  # Alice and Charlie\n",
    "print()\n",
    "\n",
    "# 4. Select rows and specific columns by positions\n",
    "print(\"4. Specific rows and columns by position:\")\n",
    "print(sample_df.iloc[[1, 3], [0, 3]])  # Rows 1,3 and columns 0,3 (Name, Salary)\n",
    "print()\n",
    "\n",
    "# 5. Slice rows by positions (exclusive end)\n",
    "print(\"5. Slice rows from position 1 to 3:\")\n",
    "print(sample_df.iloc[1:4])  # Rows 1, 2, 3 (excludes row 4)\n",
    "print()\n",
    "\n",
    "# 6. Negative indexing\n",
    "print(\"6. Last row using negative indexing:\")\n",
    "print(sample_df.iloc[-1])  # Last row (Eve)"
   ]
  },
  {
   "cell_type": "markdown",
   "id": "4dc8407f",
   "metadata": {},
   "source": [
    "## 3. Boolean Indexing with `loc`"
   ]
  },
  {
   "cell_type": "code",
   "execution_count": 17,
   "id": "fb126fb8",
   "metadata": {},
   "outputs": [
    {
     "name": "stdout",
     "output_type": "stream",
     "text": [
      "1. Employees with Age > 30:\n",
      "         Name  Age     City  Salary\n",
      "emp3  Charlie   35  Chicago   70000\n",
      "emp5      Eve   32   Boston   65000\n",
      "\n",
      "2. Employees with Age > 28 AND Salary > 55000:\n",
      "         Name  Age     City  Salary\n",
      "emp2      Bob   30       LA   60000\n",
      "emp3  Charlie   35  Chicago   70000\n",
      "emp5      Eve   32   Boston   65000\n",
      "\n",
      "3. Names of employees in NYC or LA:\n",
      "       Name City\n",
      "emp1  Alice  NYC\n",
      "emp2    Bob   LA\n",
      "\n",
      "4. Employees whose name contains 'e':\n",
      "         Name  Age\n",
      "emp1    Alice   25\n",
      "emp3  Charlie   35\n",
      "emp5      Eve   32\n"
     ]
    }
   ],
   "source": [
    "# Boolean indexing with loc - very powerful for filtering\n",
    "\n",
    "# 1. Filter rows based on condition\n",
    "print(\"1. Employees with Age > 30:\")\n",
    "print(sample_df.loc[sample_df['Age'] > 30])\n",
    "print()\n",
    "\n",
    "# 2. Multiple conditions\n",
    "print(\"2. Employees with Age > 28 AND Salary > 55000:\")\n",
    "condition = (sample_df['Age'] > 28) & (sample_df['Salary'] > 55000)\n",
    "print(sample_df.loc[condition])\n",
    "print()\n",
    "\n",
    "# 3. Filter rows and select specific columns\n",
    "print(\"3. Names of employees in NYC or LA:\")\n",
    "city_condition = sample_df['City'].isin(['NYC', 'LA'])\n",
    "print(sample_df.loc[city_condition, ['Name', 'City']])\n",
    "print()\n",
    "\n",
    "# 4. Using string methods in conditions\n",
    "print(\"4. Employees whose name contains 'e':\")\n",
    "name_condition = sample_df['Name'].str.contains('e', case=False)\n",
    "print(sample_df.loc[name_condition, ['Name', 'Age']])"
   ]
  },
  {
   "cell_type": "markdown",
   "id": "a78ef8d6",
   "metadata": {},
   "source": [
    "## 4. Modifying Data with `loc` and `iloc`"
   ]
  },
  {
   "cell_type": "code",
   "execution_count": 18,
   "id": "53322906",
   "metadata": {},
   "outputs": [
    {
     "name": "stdout",
     "output_type": "stream",
     "text": [
      "Original DataFrame:\n",
      "         Name  Age     City  Salary\n",
      "emp1    Alice   25      NYC   50000\n",
      "emp2      Bob   30       LA   60000\n",
      "emp3  Charlie   35  Chicago   70000\n",
      "emp4    Diana   28    Miami   55000\n",
      "emp5      Eve   32   Boston   65000\n",
      "\n",
      "1. After modifying Bob's age using loc:\n",
      "         Name  Age     City  Salary\n",
      "emp1    Alice   25      NYC   50000\n",
      "emp2      Bob   31       LA   60000\n",
      "emp3  Charlie   35  Chicago   70000\n",
      "emp4    Diana   28    Miami   55000\n",
      "emp5      Eve   32   Boston   65000\n",
      "\n",
      "2. After modifying Alice's age using iloc:\n",
      "         Name  Age     City  Salary\n",
      "emp1    Alice   26      NYC   50000\n",
      "emp2      Bob   31       LA   60000\n",
      "emp3  Charlie   35  Chicago   70000\n",
      "emp4    Diana   28    Miami   55000\n",
      "emp5      Eve   32   Boston   65000\n",
      "\n",
      "3. After giving 10% raise to employees with salary < 60000:\n",
      "         Name  Age     City   Salary\n",
      "emp1    Alice   26      NYC  55000.0\n",
      "emp2      Bob   31       LA  60000.0\n",
      "emp3  Charlie   35  Chicago  70000.0\n",
      "emp4    Diana   28    Miami  60500.0\n",
      "emp5      Eve   32   Boston  65000.0\n"
     ]
    },
    {
     "name": "stderr",
     "output_type": "stream",
     "text": [
      "/var/folders/lq/9807c0hd61d22rh4kpl7pvrc0000gn/T/ipykernel_24547/1762362919.py:21: FutureWarning: Setting an item of incompatible dtype is deprecated and will raise an error in a future version of pandas. Value '[55000. 60500.]' has dtype incompatible with int64, please explicitly cast to a compatible dtype first.\n",
      "  df_copy.loc[df_copy['Salary'] < 60000, 'Salary'] = df_copy['Salary'] * 1.1\n"
     ]
    }
   ],
   "source": [
    "# Create a copy for modification examples\n",
    "df_copy = sample_df.copy()\n",
    "\n",
    "print(\"Original DataFrame:\")\n",
    "print(df_copy)\n",
    "print()\n",
    "\n",
    "# 1. Modify single value using loc\n",
    "df_copy.loc['emp2', 'Age'] = 31\n",
    "print(\"1. After modifying Bob's age using loc:\")\n",
    "print(df_copy)\n",
    "print()\n",
    "\n",
    "# 2. Modify single value using iloc\n",
    "df_copy.iloc[0, 1] = 26  # Alice's age (row 0, column 1)\n",
    "print(\"2. After modifying Alice's age using iloc:\")\n",
    "print(df_copy)\n",
    "print()\n",
    "\n",
    "# 3. Modify multiple values based on condition\n",
    "df_copy.loc[df_copy['Salary'] < 60000, 'Salary'] = df_copy['Salary'] * 1.1\n",
    "print(\"3. After giving 10% raise to employees with salary < 60000:\")\n",
    "print(df_copy)"
   ]
  },
  {
   "cell_type": "markdown",
   "id": "fe084188",
   "metadata": {},
   "source": [
    "## 5. Key Differences Summary\n",
    "\n",
    "| Aspect | `loc` | `iloc` |\n",
    "|--------|-------|--------|\n",
    "| **Indexing Type** | Label-based | Position-based |\n",
    "| **Row Selection** | Uses index labels | Uses integer positions (0, 1, 2...) |\n",
    "| **Column Selection** | Uses column names | Uses integer positions (0, 1, 2...) |\n",
    "| **Slicing** | Inclusive on both ends | Exclusive end (like Python lists) |\n",
    "| **Boolean Indexing** | ✅ Supported | ❌ Not directly supported |\n",
    "| **Negative Indexing** | ❌ Not supported | ✅ Supported |\n",
    "\n",
    "## 6. When to Use Which?\n",
    "\n",
    "- **Use `loc` when:**\n",
    "  - You know the index labels and column names\n",
    "  - You want to filter data based on conditions\n",
    "  - You're working with meaningful index labels\n",
    "  - You need inclusive slicing\n",
    "\n",
    "- **Use `iloc` when:**\n",
    "  - You want to select by position regardless of labels\n",
    "  - You're working with numeric positions\n",
    "  - You need to select first/last n rows/columns\n",
    "  - You want Python-like slicing behavior"
   ]
  },
  {
   "cell_type": "code",
   "execution_count": 19,
   "id": "701e38c4",
   "metadata": {},
   "outputs": [
    {
     "name": "stdout",
     "output_type": "stream",
     "text": [
      "=== QUICK COMPARISON ===\n",
      "\n",
      "1. Same result, different methods:\n",
      "loc['emp2', 'Name']: Bob\n",
      "iloc[1, 0]: Bob\n",
      "\n",
      "2. Slicing differences:\n",
      "loc['emp2':'emp4'] - INCLUSIVE:\n",
      "['emp2', 'emp3', 'emp4']\n",
      "iloc[1:4] - EXCLUSIVE:\n",
      "['emp2', 'emp3', 'emp4']\n",
      "\n",
      "3. First 3 rows:\n",
      "Using iloc (more common for this):\n",
      "         Name  Age     City  Salary\n",
      "emp1    Alice   25      NYC   50000\n",
      "emp2      Bob   30       LA   60000\n",
      "emp3  Charlie   35  Chicago   70000\n",
      "\n",
      "4. Boolean indexing (only loc):\n",
      "High earners (>60000):\n",
      "         Name  Salary\n",
      "emp3  Charlie   70000\n",
      "emp5      Eve   65000\n"
     ]
    }
   ],
   "source": [
    "# Quick comparison examples\n",
    "print(\"=== QUICK COMPARISON ===\")\n",
    "print(\"\\n1. Same result, different methods:\")\n",
    "print(\"loc['emp2', 'Name']:\", sample_df.loc['emp2', 'Name'])\n",
    "print(\"iloc[1, 0]:\", sample_df.iloc[1, 0])\n",
    "\n",
    "print(\"\\n2. Slicing differences:\")\n",
    "print(\"loc['emp2':'emp4'] - INCLUSIVE:\")\n",
    "print(sample_df.loc['emp2':'emp4'].index.tolist())\n",
    "print(\"iloc[1:4] - EXCLUSIVE:\")\n",
    "print(sample_df.iloc[1:4].index.tolist())\n",
    "\n",
    "print(\"\\n3. First 3 rows:\")\n",
    "print(\"Using iloc (more common for this):\")\n",
    "print(sample_df.iloc[:3])\n",
    "\n",
    "print(\"\\n4. Boolean indexing (only loc):\")\n",
    "print(\"High earners (>60000):\")\n",
    "print(sample_df.loc[sample_df['Salary'] > 60000, ['Name', 'Salary']])"
   ]
  },
  {
   "cell_type": "code",
   "execution_count": 20,
   "id": "e64814dd",
   "metadata": {},
   "outputs": [],
   "source": [
    "data = {\n",
    "    'Name': ['Alice', 'Bob', 'Charlie', 'Diana', 'Eve'],\n",
    "    'Age': [25, 30, 35, 28, 32],\n",
    "    'City': ['NYC', 'LA', 'Chicago', 'Miami', 'Boston'],\n",
    "    'Salary': [50000, 60000, 70000, 55000, 65000]\n",
    "}\n",
    "custom_index = ['emp1', 'emp2', 'emp3', 'emp4', 'emp5']\n"
   ]
  },
  {
   "cell_type": "code",
   "execution_count": 21,
   "id": "56714e4c",
   "metadata": {},
   "outputs": [
    {
     "name": "stdout",
     "output_type": "stream",
     "text": [
      "         Name  Age     City  Salary\n",
      "emp1    Alice   25      NYC   50000\n",
      "emp2      Bob   30       LA   60000\n",
      "emp3  Charlie   35  Chicago   70000\n",
      "emp4    Diana   28    Miami   55000\n",
      "emp5      Eve   32   Boston   65000\n",
      "Alice\n",
      "Alice\n",
      "Bob\n",
      "Bob\n",
      "Charlie\n"
     ]
    },
    {
     "name": "stderr",
     "output_type": "stream",
     "text": [
      "/var/folders/lq/9807c0hd61d22rh4kpl7pvrc0000gn/T/ipykernel_24547/2578418629.py:3: FutureWarning: Series.__getitem__ treating keys as positions is deprecated. In a future version, integer keys will always be treated as labels (consistent with DataFrame behavior). To access a value by position, use `ser.iloc[pos]`\n",
      "  print(df.loc['emp1'][0])\n",
      "/var/folders/lq/9807c0hd61d22rh4kpl7pvrc0000gn/T/ipykernel_24547/2578418629.py:4: FutureWarning: Series.__getitem__ treating keys as positions is deprecated. In a future version, integer keys will always be treated as labels (consistent with DataFrame behavior). To access a value by position, use `ser.iloc[pos]`\n",
      "  print(df.iloc[0][0])\n"
     ]
    }
   ],
   "source": [
    "df=pd.DataFrame(data,custom_index)\n",
    "print(df)\n",
    "print(df.loc['emp1'][0])    \n",
    "print(df.iloc[0][0])\n",
    "print(df.at['emp2','Name'])\n",
    "print(df.at['emp2','Name'])#it takes key custom index emp1,emp2,.... \n",
    "print(df.iat[2,0])#it takes index defult index 0,1,2....\n",
    "\n"
   ]
  },
  {
   "cell_type": "code",
   "execution_count": 22,
   "id": "6961a5d6",
   "metadata": {},
   "outputs": [
    {
     "data": {
      "text/html": [
       "<div>\n",
       "<style scoped>\n",
       "    .dataframe tbody tr th:only-of-type {\n",
       "        vertical-align: middle;\n",
       "    }\n",
       "\n",
       "    .dataframe tbody tr th {\n",
       "        vertical-align: top;\n",
       "    }\n",
       "\n",
       "    .dataframe thead th {\n",
       "        text-align: right;\n",
       "    }\n",
       "</style>\n",
       "<table border=\"1\" class=\"dataframe\">\n",
       "  <thead>\n",
       "    <tr style=\"text-align: right;\">\n",
       "      <th></th>\n",
       "      <th>Name</th>\n",
       "      <th>Age</th>\n",
       "      <th>City</th>\n",
       "      <th>Salary</th>\n",
       "    </tr>\n",
       "  </thead>\n",
       "  <tbody>\n",
       "    <tr>\n",
       "      <th>emp1</th>\n",
       "      <td>Alice</td>\n",
       "      <td>25</td>\n",
       "      <td>NYC</td>\n",
       "      <td>50000</td>\n",
       "    </tr>\n",
       "    <tr>\n",
       "      <th>emp2</th>\n",
       "      <td>Bob</td>\n",
       "      <td>30</td>\n",
       "      <td>LA</td>\n",
       "      <td>60000</td>\n",
       "    </tr>\n",
       "    <tr>\n",
       "      <th>emp3</th>\n",
       "      <td>Charlie</td>\n",
       "      <td>35</td>\n",
       "      <td>Chicago</td>\n",
       "      <td>70000</td>\n",
       "    </tr>\n",
       "    <tr>\n",
       "      <th>emp4</th>\n",
       "      <td>Diana</td>\n",
       "      <td>28</td>\n",
       "      <td>Miami</td>\n",
       "      <td>55000</td>\n",
       "    </tr>\n",
       "  </tbody>\n",
       "</table>\n",
       "</div>"
      ],
      "text/plain": [
       "         Name  Age     City  Salary\n",
       "emp1    Alice   25      NYC   50000\n",
       "emp2      Bob   30       LA   60000\n",
       "emp3  Charlie   35  Chicago   70000\n",
       "emp4    Diana   28    Miami   55000"
      ]
     },
     "execution_count": 22,
     "metadata": {},
     "output_type": "execute_result"
    }
   ],
   "source": [
    "df.drop('emp5', axis=0, inplace=True)\n",
    "df"
   ]
  },
  {
   "cell_type": "code",
   "execution_count": 23,
   "id": "d6179429",
   "metadata": {},
   "outputs": [
    {
     "data": {
      "text/html": [
       "<div>\n",
       "<style scoped>\n",
       "    .dataframe tbody tr th:only-of-type {\n",
       "        vertical-align: middle;\n",
       "    }\n",
       "\n",
       "    .dataframe tbody tr th {\n",
       "        vertical-align: top;\n",
       "    }\n",
       "\n",
       "    .dataframe thead th {\n",
       "        text-align: right;\n",
       "    }\n",
       "</style>\n",
       "<table border=\"1\" class=\"dataframe\">\n",
       "  <thead>\n",
       "    <tr style=\"text-align: right;\">\n",
       "      <th></th>\n",
       "      <th>Name</th>\n",
       "      <th>City</th>\n",
       "    </tr>\n",
       "  </thead>\n",
       "  <tbody>\n",
       "    <tr>\n",
       "      <th>emp1</th>\n",
       "      <td>Alice</td>\n",
       "      <td>NYC</td>\n",
       "    </tr>\n",
       "    <tr>\n",
       "      <th>emp2</th>\n",
       "      <td>Bob</td>\n",
       "      <td>LA</td>\n",
       "    </tr>\n",
       "    <tr>\n",
       "      <th>emp3</th>\n",
       "      <td>Charlie</td>\n",
       "      <td>Chicago</td>\n",
       "    </tr>\n",
       "    <tr>\n",
       "      <th>emp4</th>\n",
       "      <td>Diana</td>\n",
       "      <td>Miami</td>\n",
       "    </tr>\n",
       "  </tbody>\n",
       "</table>\n",
       "</div>"
      ],
      "text/plain": [
       "         Name     City\n",
       "emp1    Alice      NYC\n",
       "emp2      Bob       LA\n",
       "emp3  Charlie  Chicago\n",
       "emp4    Diana    Miami"
      ]
     },
     "execution_count": 23,
     "metadata": {},
     "output_type": "execute_result"
    }
   ],
   "source": [
    "#drop column\n",
    "df.drop(['Salary', 'Age'], axis=1, inplace=True) #axis=1 for column, axis=0 for row\n",
    "df"
   ]
  },
  {
   "cell_type": "code",
   "execution_count": 25,
   "id": "844b7a91",
   "metadata": {},
   "outputs": [
    {
     "data": {
      "text/html": [
       "<div>\n",
       "<style scoped>\n",
       "    .dataframe tbody tr th:only-of-type {\n",
       "        vertical-align: middle;\n",
       "    }\n",
       "\n",
       "    .dataframe tbody tr th {\n",
       "        vertical-align: top;\n",
       "    }\n",
       "\n",
       "    .dataframe thead th {\n",
       "        text-align: right;\n",
       "    }\n",
       "</style>\n",
       "<table border=\"1\" class=\"dataframe\">\n",
       "  <thead>\n",
       "    <tr style=\"text-align: right;\">\n",
       "      <th></th>\n",
       "      <th>Name</th>\n",
       "      <th>City</th>\n",
       "      <th>Country</th>\n",
       "      <th>salary</th>\n",
       "    </tr>\n",
       "  </thead>\n",
       "  <tbody>\n",
       "    <tr>\n",
       "      <th>emp1</th>\n",
       "      <td>Alice</td>\n",
       "      <td>NYC</td>\n",
       "      <td>USA</td>\n",
       "      <td>70000</td>\n",
       "    </tr>\n",
       "    <tr>\n",
       "      <th>emp2</th>\n",
       "      <td>Bob</td>\n",
       "      <td>LA</td>\n",
       "      <td>USA</td>\n",
       "      <td>80000</td>\n",
       "    </tr>\n",
       "    <tr>\n",
       "      <th>emp3</th>\n",
       "      <td>Charlie</td>\n",
       "      <td>Chicago</td>\n",
       "      <td>USA</td>\n",
       "      <td>120000</td>\n",
       "    </tr>\n",
       "    <tr>\n",
       "      <th>emp4</th>\n",
       "      <td>Diana</td>\n",
       "      <td>Miami</td>\n",
       "      <td>USA</td>\n",
       "      <td>90000</td>\n",
       "    </tr>\n",
       "  </tbody>\n",
       "</table>\n",
       "</div>"
      ],
      "text/plain": [
       "         Name     City Country  salary\n",
       "emp1    Alice      NYC     USA   70000\n",
       "emp2      Bob       LA     USA   80000\n",
       "emp3  Charlie  Chicago     USA  120000\n",
       "emp4    Diana    Miami     USA   90000"
      ]
     },
     "execution_count": 25,
     "metadata": {},
     "output_type": "execute_result"
    }
   ],
   "source": [
    "# add a new column\n",
    "df['salary'] = [70000, 80000, 120000, 90000]\n",
    "df"
   ]
  },
  {
   "cell_type": "code",
   "execution_count": 26,
   "id": "ad0810bc",
   "metadata": {},
   "outputs": [
    {
     "data": {
      "text/html": [
       "<div>\n",
       "<style scoped>\n",
       "    .dataframe tbody tr th:only-of-type {\n",
       "        vertical-align: middle;\n",
       "    }\n",
       "\n",
       "    .dataframe tbody tr th {\n",
       "        vertical-align: top;\n",
       "    }\n",
       "\n",
       "    .dataframe thead th {\n",
       "        text-align: right;\n",
       "    }\n",
       "</style>\n",
       "<table border=\"1\" class=\"dataframe\">\n",
       "  <thead>\n",
       "    <tr style=\"text-align: right;\">\n",
       "      <th></th>\n",
       "      <th>salary</th>\n",
       "    </tr>\n",
       "  </thead>\n",
       "  <tbody>\n",
       "    <tr>\n",
       "      <th>count</th>\n",
       "      <td>4.000000</td>\n",
       "    </tr>\n",
       "    <tr>\n",
       "      <th>mean</th>\n",
       "      <td>90000.000000</td>\n",
       "    </tr>\n",
       "    <tr>\n",
       "      <th>std</th>\n",
       "      <td>21602.468995</td>\n",
       "    </tr>\n",
       "    <tr>\n",
       "      <th>min</th>\n",
       "      <td>70000.000000</td>\n",
       "    </tr>\n",
       "    <tr>\n",
       "      <th>25%</th>\n",
       "      <td>77500.000000</td>\n",
       "    </tr>\n",
       "    <tr>\n",
       "      <th>50%</th>\n",
       "      <td>85000.000000</td>\n",
       "    </tr>\n",
       "    <tr>\n",
       "      <th>75%</th>\n",
       "      <td>97500.000000</td>\n",
       "    </tr>\n",
       "    <tr>\n",
       "      <th>max</th>\n",
       "      <td>120000.000000</td>\n",
       "    </tr>\n",
       "  </tbody>\n",
       "</table>\n",
       "</div>"
      ],
      "text/plain": [
       "              salary\n",
       "count       4.000000\n",
       "mean    90000.000000\n",
       "std     21602.468995\n",
       "min     70000.000000\n",
       "25%     77500.000000\n",
       "50%     85000.000000\n",
       "75%     97500.000000\n",
       "max    120000.000000"
      ]
     },
     "execution_count": 26,
     "metadata": {},
     "output_type": "execute_result"
    }
   ],
   "source": [
    "df.describe()"
   ]
  },
  {
   "cell_type": "code",
   "execution_count": 29,
   "id": "f27504f3",
   "metadata": {},
   "outputs": [
    {
     "data": {
      "text/plain": [
       "Name       object\n",
       "City       object\n",
       "Country    object\n",
       "salary      int64\n",
       "dtype: object"
      ]
     },
     "execution_count": 29,
     "metadata": {},
     "output_type": "execute_result"
    }
   ],
   "source": [
    "df.dtypes"
   ]
  },
  {
   "cell_type": "code",
   "execution_count": 70,
   "id": "d62ce0a0",
   "metadata": {},
   "outputs": [
    {
     "name": "stdout",
     "output_type": "stream",
     "text": [
      "<class 'pandas.core.frame.DataFrame'>\n",
      "RangeIndex: 50 entries, 0 to 49\n",
      "Data columns (total 6 columns):\n",
      " #   Column    Non-Null Count  Dtype  \n",
      "---  ------    --------------  -----  \n",
      " 0   Date      50 non-null     object \n",
      " 1   Category  50 non-null     object \n",
      " 2   Value     46 non-null     float64\n",
      " 3   Product   48 non-null     object \n",
      " 4   Sales     46 non-null     float64\n",
      " 5   Region    49 non-null     object \n",
      "dtypes: float64(2), object(4)\n",
      "memory usage: 2.5+ KB\n"
     ]
    }
   ],
   "source": [
    "# data manipulation and cleaning\n",
    "df= pd.read_csv('data.csv')\n",
    "df.info()"
   ]
  },
  {
   "cell_type": "code",
   "execution_count": 71,
   "id": "0dbe7dc3",
   "metadata": {},
   "outputs": [
    {
     "data": {
      "text/html": [
       "<div>\n",
       "<style scoped>\n",
       "    .dataframe tbody tr th:only-of-type {\n",
       "        vertical-align: middle;\n",
       "    }\n",
       "\n",
       "    .dataframe tbody tr th {\n",
       "        vertical-align: top;\n",
       "    }\n",
       "\n",
       "    .dataframe thead th {\n",
       "        text-align: right;\n",
       "    }\n",
       "</style>\n",
       "<table border=\"1\" class=\"dataframe\">\n",
       "  <thead>\n",
       "    <tr style=\"text-align: right;\">\n",
       "      <th></th>\n",
       "      <th>Date</th>\n",
       "      <th>Category</th>\n",
       "      <th>Value</th>\n",
       "      <th>Product</th>\n",
       "      <th>Sales</th>\n",
       "      <th>Region</th>\n",
       "    </tr>\n",
       "  </thead>\n",
       "  <tbody>\n",
       "    <tr>\n",
       "      <th>0</th>\n",
       "      <td>2023-01-01</td>\n",
       "      <td>A</td>\n",
       "      <td>28.0</td>\n",
       "      <td>Product1</td>\n",
       "      <td>754.0</td>\n",
       "      <td>NaN</td>\n",
       "    </tr>\n",
       "    <tr>\n",
       "      <th>1</th>\n",
       "      <td>2023-01-02</td>\n",
       "      <td>B</td>\n",
       "      <td>NaN</td>\n",
       "      <td>NaN</td>\n",
       "      <td>110.0</td>\n",
       "      <td>North</td>\n",
       "    </tr>\n",
       "    <tr>\n",
       "      <th>2</th>\n",
       "      <td>2023-01-03</td>\n",
       "      <td>C</td>\n",
       "      <td>32.0</td>\n",
       "      <td>Product2</td>\n",
       "      <td>398.0</td>\n",
       "      <td>East</td>\n",
       "    </tr>\n",
       "    <tr>\n",
       "      <th>3</th>\n",
       "      <td>2023-01-04</td>\n",
       "      <td>B</td>\n",
       "      <td>8.0</td>\n",
       "      <td>NaN</td>\n",
       "      <td>522.0</td>\n",
       "      <td>East</td>\n",
       "    </tr>\n",
       "    <tr>\n",
       "      <th>4</th>\n",
       "      <td>2023-01-05</td>\n",
       "      <td>B</td>\n",
       "      <td>26.0</td>\n",
       "      <td>Product3</td>\n",
       "      <td>869.0</td>\n",
       "      <td>North</td>\n",
       "    </tr>\n",
       "  </tbody>\n",
       "</table>\n",
       "</div>"
      ],
      "text/plain": [
       "         Date Category  Value   Product  Sales Region\n",
       "0  2023-01-01        A   28.0  Product1  754.0    NaN\n",
       "1  2023-01-02        B    NaN       NaN  110.0  North\n",
       "2  2023-01-03        C   32.0  Product2  398.0   East\n",
       "3  2023-01-04        B    8.0       NaN  522.0   East\n",
       "4  2023-01-05        B   26.0  Product3  869.0  North"
      ]
     },
     "execution_count": 71,
     "metadata": {},
     "output_type": "execute_result"
    }
   ],
   "source": [
    "df.head(5) "
   ]
  },
  {
   "cell_type": "code",
   "execution_count": 72,
   "id": "71aaa466",
   "metadata": {},
   "outputs": [
    {
     "data": {
      "text/plain": [
       "Date        0\n",
       "Category    0\n",
       "Value       4\n",
       "Product     2\n",
       "Sales       4\n",
       "Region      1\n",
       "dtype: int64"
      ]
     },
     "execution_count": 72,
     "metadata": {},
     "output_type": "execute_result"
    }
   ],
   "source": [
    "#  handling missing values\n",
    "df.isnull().sum()"
   ]
  },
  {
   "cell_type": "code",
   "execution_count": 73,
   "id": "63ae88df",
   "metadata": {},
   "outputs": [
    {
     "data": {
      "text/html": [
       "<div>\n",
       "<style scoped>\n",
       "    .dataframe tbody tr th:only-of-type {\n",
       "        vertical-align: middle;\n",
       "    }\n",
       "\n",
       "    .dataframe tbody tr th {\n",
       "        vertical-align: top;\n",
       "    }\n",
       "\n",
       "    .dataframe thead th {\n",
       "        text-align: right;\n",
       "    }\n",
       "</style>\n",
       "<table border=\"1\" class=\"dataframe\">\n",
       "  <thead>\n",
       "    <tr style=\"text-align: right;\">\n",
       "      <th></th>\n",
       "      <th>Date</th>\n",
       "      <th>Category</th>\n",
       "      <th>Value</th>\n",
       "      <th>Product</th>\n",
       "      <th>Sales</th>\n",
       "      <th>Region</th>\n",
       "    </tr>\n",
       "  </thead>\n",
       "  <tbody>\n",
       "    <tr>\n",
       "      <th>0</th>\n",
       "      <td>2023-01-01</td>\n",
       "      <td>A</td>\n",
       "      <td>28.0</td>\n",
       "      <td>Product1</td>\n",
       "      <td>754.0</td>\n",
       "      <td>0</td>\n",
       "    </tr>\n",
       "    <tr>\n",
       "      <th>1</th>\n",
       "      <td>2023-01-02</td>\n",
       "      <td>B</td>\n",
       "      <td>0.0</td>\n",
       "      <td>0</td>\n",
       "      <td>110.0</td>\n",
       "      <td>North</td>\n",
       "    </tr>\n",
       "    <tr>\n",
       "      <th>2</th>\n",
       "      <td>2023-01-03</td>\n",
       "      <td>C</td>\n",
       "      <td>32.0</td>\n",
       "      <td>Product2</td>\n",
       "      <td>398.0</td>\n",
       "      <td>East</td>\n",
       "    </tr>\n",
       "    <tr>\n",
       "      <th>3</th>\n",
       "      <td>2023-01-04</td>\n",
       "      <td>B</td>\n",
       "      <td>8.0</td>\n",
       "      <td>0</td>\n",
       "      <td>522.0</td>\n",
       "      <td>East</td>\n",
       "    </tr>\n",
       "    <tr>\n",
       "      <th>4</th>\n",
       "      <td>2023-01-05</td>\n",
       "      <td>B</td>\n",
       "      <td>26.0</td>\n",
       "      <td>Product3</td>\n",
       "      <td>869.0</td>\n",
       "      <td>North</td>\n",
       "    </tr>\n",
       "  </tbody>\n",
       "</table>\n",
       "</div>"
      ],
      "text/plain": [
       "         Date Category  Value   Product  Sales Region\n",
       "0  2023-01-01        A   28.0  Product1  754.0      0\n",
       "1  2023-01-02        B    0.0         0  110.0  North\n",
       "2  2023-01-03        C   32.0  Product2  398.0   East\n",
       "3  2023-01-04        B    8.0         0  522.0   East\n",
       "4  2023-01-05        B   26.0  Product3  869.0  North"
      ]
     },
     "execution_count": 73,
     "metadata": {},
     "output_type": "execute_result"
    }
   ],
   "source": [
    "df.fillna(0).head(5)"
   ]
  },
  {
   "cell_type": "code",
   "execution_count": 74,
   "id": "3b6762b4",
   "metadata": {},
   "outputs": [
    {
     "data": {
      "text/html": [
       "<div>\n",
       "<style scoped>\n",
       "    .dataframe tbody tr th:only-of-type {\n",
       "        vertical-align: middle;\n",
       "    }\n",
       "\n",
       "    .dataframe tbody tr th {\n",
       "        vertical-align: top;\n",
       "    }\n",
       "\n",
       "    .dataframe thead th {\n",
       "        text-align: right;\n",
       "    }\n",
       "</style>\n",
       "<table border=\"1\" class=\"dataframe\">\n",
       "  <thead>\n",
       "    <tr style=\"text-align: right;\">\n",
       "      <th></th>\n",
       "      <th>Date</th>\n",
       "      <th>Category</th>\n",
       "      <th>Value</th>\n",
       "      <th>Product</th>\n",
       "      <th>Sales</th>\n",
       "      <th>Region</th>\n",
       "      <th>Sales_fill</th>\n",
       "    </tr>\n",
       "  </thead>\n",
       "  <tbody>\n",
       "    <tr>\n",
       "      <th>0</th>\n",
       "      <td>2023-01-01</td>\n",
       "      <td>A</td>\n",
       "      <td>28.0</td>\n",
       "      <td>Product1</td>\n",
       "      <td>754.0</td>\n",
       "      <td>NaN</td>\n",
       "      <td>754.0</td>\n",
       "    </tr>\n",
       "    <tr>\n",
       "      <th>1</th>\n",
       "      <td>2023-01-02</td>\n",
       "      <td>B</td>\n",
       "      <td>NaN</td>\n",
       "      <td>NaN</td>\n",
       "      <td>110.0</td>\n",
       "      <td>North</td>\n",
       "      <td>110.0</td>\n",
       "    </tr>\n",
       "    <tr>\n",
       "      <th>2</th>\n",
       "      <td>2023-01-03</td>\n",
       "      <td>C</td>\n",
       "      <td>32.0</td>\n",
       "      <td>Product2</td>\n",
       "      <td>398.0</td>\n",
       "      <td>East</td>\n",
       "      <td>398.0</td>\n",
       "    </tr>\n",
       "    <tr>\n",
       "      <th>3</th>\n",
       "      <td>2023-01-04</td>\n",
       "      <td>B</td>\n",
       "      <td>8.0</td>\n",
       "      <td>NaN</td>\n",
       "      <td>522.0</td>\n",
       "      <td>East</td>\n",
       "      <td>522.0</td>\n",
       "    </tr>\n",
       "    <tr>\n",
       "      <th>4</th>\n",
       "      <td>2023-01-05</td>\n",
       "      <td>B</td>\n",
       "      <td>26.0</td>\n",
       "      <td>Product3</td>\n",
       "      <td>869.0</td>\n",
       "      <td>North</td>\n",
       "      <td>869.0</td>\n",
       "    </tr>\n",
       "  </tbody>\n",
       "</table>\n",
       "</div>"
      ],
      "text/plain": [
       "         Date Category  Value   Product  Sales Region  Sales_fill\n",
       "0  2023-01-01        A   28.0  Product1  754.0    NaN       754.0\n",
       "1  2023-01-02        B    NaN       NaN  110.0  North       110.0\n",
       "2  2023-01-03        C   32.0  Product2  398.0   East       398.0\n",
       "3  2023-01-04        B    8.0       NaN  522.0   East       522.0\n",
       "4  2023-01-05        B   26.0  Product3  869.0  North       869.0"
      ]
     },
     "execution_count": 74,
     "metadata": {},
     "output_type": "execute_result"
    }
   ],
   "source": [
    "df['Sales_fill']= df['Sales'].fillna(df['Sales'].mean())\n",
    "df.head(5)"
   ]
  },
  {
   "cell_type": "code",
   "execution_count": 75,
   "id": "c4498c78",
   "metadata": {},
   "outputs": [
    {
     "data": {
      "text/plain": [
       "'Product3'"
      ]
     },
     "execution_count": 75,
     "metadata": {},
     "output_type": "execute_result"
    }
   ],
   "source": [
    "df['Product'].mode()[0]  # most frequent value"
   ]
  },
  {
   "cell_type": "code",
   "execution_count": 76,
   "id": "8c8382c8",
   "metadata": {},
   "outputs": [
    {
     "data": {
      "text/html": [
       "<div>\n",
       "<style scoped>\n",
       "    .dataframe tbody tr th:only-of-type {\n",
       "        vertical-align: middle;\n",
       "    }\n",
       "\n",
       "    .dataframe tbody tr th {\n",
       "        vertical-align: top;\n",
       "    }\n",
       "\n",
       "    .dataframe thead th {\n",
       "        text-align: right;\n",
       "    }\n",
       "</style>\n",
       "<table border=\"1\" class=\"dataframe\">\n",
       "  <thead>\n",
       "    <tr style=\"text-align: right;\">\n",
       "      <th></th>\n",
       "      <th>Date</th>\n",
       "      <th>Category</th>\n",
       "      <th>Value</th>\n",
       "      <th>Product</th>\n",
       "      <th>Sales</th>\n",
       "      <th>Region</th>\n",
       "      <th>Sales_fill</th>\n",
       "      <th>Product_fill</th>\n",
       "    </tr>\n",
       "  </thead>\n",
       "  <tbody>\n",
       "    <tr>\n",
       "      <th>0</th>\n",
       "      <td>2023-01-01</td>\n",
       "      <td>A</td>\n",
       "      <td>28.0</td>\n",
       "      <td>Product1</td>\n",
       "      <td>754.0</td>\n",
       "      <td>NaN</td>\n",
       "      <td>754.0</td>\n",
       "      <td>Product1</td>\n",
       "    </tr>\n",
       "    <tr>\n",
       "      <th>1</th>\n",
       "      <td>2023-01-02</td>\n",
       "      <td>B</td>\n",
       "      <td>NaN</td>\n",
       "      <td>NaN</td>\n",
       "      <td>110.0</td>\n",
       "      <td>North</td>\n",
       "      <td>110.0</td>\n",
       "      <td>Product3</td>\n",
       "    </tr>\n",
       "    <tr>\n",
       "      <th>2</th>\n",
       "      <td>2023-01-03</td>\n",
       "      <td>C</td>\n",
       "      <td>32.0</td>\n",
       "      <td>Product2</td>\n",
       "      <td>398.0</td>\n",
       "      <td>East</td>\n",
       "      <td>398.0</td>\n",
       "      <td>Product2</td>\n",
       "    </tr>\n",
       "    <tr>\n",
       "      <th>3</th>\n",
       "      <td>2023-01-04</td>\n",
       "      <td>B</td>\n",
       "      <td>8.0</td>\n",
       "      <td>NaN</td>\n",
       "      <td>522.0</td>\n",
       "      <td>East</td>\n",
       "      <td>522.0</td>\n",
       "      <td>Product3</td>\n",
       "    </tr>\n",
       "    <tr>\n",
       "      <th>4</th>\n",
       "      <td>2023-01-05</td>\n",
       "      <td>B</td>\n",
       "      <td>26.0</td>\n",
       "      <td>Product3</td>\n",
       "      <td>869.0</td>\n",
       "      <td>North</td>\n",
       "      <td>869.0</td>\n",
       "      <td>Product3</td>\n",
       "    </tr>\n",
       "  </tbody>\n",
       "</table>\n",
       "</div>"
      ],
      "text/plain": [
       "         Date Category  Value   Product  Sales Region  Sales_fill Product_fill\n",
       "0  2023-01-01        A   28.0  Product1  754.0    NaN       754.0     Product1\n",
       "1  2023-01-02        B    NaN       NaN  110.0  North       110.0     Product3\n",
       "2  2023-01-03        C   32.0  Product2  398.0   East       398.0     Product2\n",
       "3  2023-01-04        B    8.0       NaN  522.0   East       522.0     Product3\n",
       "4  2023-01-05        B   26.0  Product3  869.0  North       869.0     Product3"
      ]
     },
     "execution_count": 76,
     "metadata": {},
     "output_type": "execute_result"
    }
   ],
   "source": [
    "df['Product_fill']= df['Product'].fillna(df['Product'].mode()[0])\n",
    "df.head(5)"
   ]
  },
  {
   "cell_type": "code",
   "execution_count": 77,
   "id": "ed25a9e8",
   "metadata": {},
   "outputs": [
    {
     "data": {
      "text/html": [
       "<div>\n",
       "<style scoped>\n",
       "    .dataframe tbody tr th:only-of-type {\n",
       "        vertical-align: middle;\n",
       "    }\n",
       "\n",
       "    .dataframe tbody tr th {\n",
       "        vertical-align: top;\n",
       "    }\n",
       "\n",
       "    .dataframe thead th {\n",
       "        text-align: right;\n",
       "    }\n",
       "</style>\n",
       "<table border=\"1\" class=\"dataframe\">\n",
       "  <thead>\n",
       "    <tr style=\"text-align: right;\">\n",
       "      <th></th>\n",
       "      <th>Value</th>\n",
       "      <th>Sales</th>\n",
       "      <th>Sales_fill</th>\n",
       "    </tr>\n",
       "  </thead>\n",
       "  <tbody>\n",
       "    <tr>\n",
       "      <th>count</th>\n",
       "      <td>46.000000</td>\n",
       "      <td>46.000000</td>\n",
       "      <td>50.000000</td>\n",
       "    </tr>\n",
       "    <tr>\n",
       "      <th>mean</th>\n",
       "      <td>52.021739</td>\n",
       "      <td>557.130435</td>\n",
       "      <td>557.130435</td>\n",
       "    </tr>\n",
       "    <tr>\n",
       "      <th>std</th>\n",
       "      <td>29.308694</td>\n",
       "      <td>274.598584</td>\n",
       "      <td>263.151901</td>\n",
       "    </tr>\n",
       "    <tr>\n",
       "      <th>min</th>\n",
       "      <td>2.000000</td>\n",
       "      <td>108.000000</td>\n",
       "      <td>108.000000</td>\n",
       "    </tr>\n",
       "    <tr>\n",
       "      <th>25%</th>\n",
       "      <td>27.250000</td>\n",
       "      <td>339.000000</td>\n",
       "      <td>356.000000</td>\n",
       "    </tr>\n",
       "    <tr>\n",
       "      <th>50%</th>\n",
       "      <td>55.000000</td>\n",
       "      <td>591.500000</td>\n",
       "      <td>578.000000</td>\n",
       "    </tr>\n",
       "    <tr>\n",
       "      <th>75%</th>\n",
       "      <td>70.000000</td>\n",
       "      <td>767.500000</td>\n",
       "      <td>749.750000</td>\n",
       "    </tr>\n",
       "    <tr>\n",
       "      <th>max</th>\n",
       "      <td>99.000000</td>\n",
       "      <td>992.000000</td>\n",
       "      <td>992.000000</td>\n",
       "    </tr>\n",
       "  </tbody>\n",
       "</table>\n",
       "</div>"
      ],
      "text/plain": [
       "           Value       Sales  Sales_fill\n",
       "count  46.000000   46.000000   50.000000\n",
       "mean   52.021739  557.130435  557.130435\n",
       "std    29.308694  274.598584  263.151901\n",
       "min     2.000000  108.000000  108.000000\n",
       "25%    27.250000  339.000000  356.000000\n",
       "50%    55.000000  591.500000  578.000000\n",
       "75%    70.000000  767.500000  749.750000\n",
       "max    99.000000  992.000000  992.000000"
      ]
     },
     "execution_count": 77,
     "metadata": {},
     "output_type": "execute_result"
    }
   ],
   "source": [
    "df.describe()\n"
   ]
  },
  {
   "cell_type": "code",
   "execution_count": 78,
   "id": "2695b482",
   "metadata": {},
   "outputs": [
    {
     "data": {
      "text/plain": [
       "Date             object\n",
       "Category         object\n",
       "Value           float64\n",
       "Product          object\n",
       "Sales           float64\n",
       "Region           object\n",
       "Sales_fill      float64\n",
       "Product_fill     object\n",
       "dtype: object"
      ]
     },
     "execution_count": 78,
     "metadata": {},
     "output_type": "execute_result"
    }
   ],
   "source": [
    "df.dtypes"
   ]
  },
  {
   "cell_type": "code",
   "execution_count": 79,
   "id": "7a9eab23",
   "metadata": {},
   "outputs": [
    {
     "data": {
      "text/html": [
       "<div>\n",
       "<style scoped>\n",
       "    .dataframe tbody tr th:only-of-type {\n",
       "        vertical-align: middle;\n",
       "    }\n",
       "\n",
       "    .dataframe tbody tr th {\n",
       "        vertical-align: top;\n",
       "    }\n",
       "\n",
       "    .dataframe thead th {\n",
       "        text-align: right;\n",
       "    }\n",
       "</style>\n",
       "<table border=\"1\" class=\"dataframe\">\n",
       "  <thead>\n",
       "    <tr style=\"text-align: right;\">\n",
       "      <th></th>\n",
       "      <th>Sales Date</th>\n",
       "      <th>Category</th>\n",
       "      <th>Value</th>\n",
       "      <th>Product</th>\n",
       "      <th>Sales</th>\n",
       "      <th>Region</th>\n",
       "      <th>Sales_fill</th>\n",
       "      <th>Product_fill</th>\n",
       "    </tr>\n",
       "  </thead>\n",
       "  <tbody>\n",
       "    <tr>\n",
       "      <th>0</th>\n",
       "      <td>2023-01-01</td>\n",
       "      <td>A</td>\n",
       "      <td>28.0</td>\n",
       "      <td>Product1</td>\n",
       "      <td>754.0</td>\n",
       "      <td>NaN</td>\n",
       "      <td>754.0</td>\n",
       "      <td>Product1</td>\n",
       "    </tr>\n",
       "    <tr>\n",
       "      <th>1</th>\n",
       "      <td>2023-01-02</td>\n",
       "      <td>B</td>\n",
       "      <td>NaN</td>\n",
       "      <td>NaN</td>\n",
       "      <td>110.0</td>\n",
       "      <td>North</td>\n",
       "      <td>110.0</td>\n",
       "      <td>Product3</td>\n",
       "    </tr>\n",
       "    <tr>\n",
       "      <th>2</th>\n",
       "      <td>2023-01-03</td>\n",
       "      <td>C</td>\n",
       "      <td>32.0</td>\n",
       "      <td>Product2</td>\n",
       "      <td>398.0</td>\n",
       "      <td>East</td>\n",
       "      <td>398.0</td>\n",
       "      <td>Product2</td>\n",
       "    </tr>\n",
       "    <tr>\n",
       "      <th>3</th>\n",
       "      <td>2023-01-04</td>\n",
       "      <td>B</td>\n",
       "      <td>8.0</td>\n",
       "      <td>NaN</td>\n",
       "      <td>522.0</td>\n",
       "      <td>East</td>\n",
       "      <td>522.0</td>\n",
       "      <td>Product3</td>\n",
       "    </tr>\n",
       "    <tr>\n",
       "      <th>4</th>\n",
       "      <td>2023-01-05</td>\n",
       "      <td>B</td>\n",
       "      <td>26.0</td>\n",
       "      <td>Product3</td>\n",
       "      <td>869.0</td>\n",
       "      <td>North</td>\n",
       "      <td>869.0</td>\n",
       "      <td>Product3</td>\n",
       "    </tr>\n",
       "  </tbody>\n",
       "</table>\n",
       "</div>"
      ],
      "text/plain": [
       "   Sales Date Category  Value   Product  Sales Region  Sales_fill Product_fill\n",
       "0  2023-01-01        A   28.0  Product1  754.0    NaN       754.0     Product1\n",
       "1  2023-01-02        B    NaN       NaN  110.0  North       110.0     Product3\n",
       "2  2023-01-03        C   32.0  Product2  398.0   East       398.0     Product2\n",
       "3  2023-01-04        B    8.0       NaN  522.0   East       522.0     Product3\n",
       "4  2023-01-05        B   26.0  Product3  869.0  North       869.0     Product3"
      ]
     },
     "execution_count": 79,
     "metadata": {},
     "output_type": "execute_result"
    }
   ],
   "source": [
    "df=df.rename(columns={'Date':\"Sales Date\"})\n",
    "df.head(5)"
   ]
  },
  {
   "cell_type": "code",
   "execution_count": 82,
   "id": "7e9a8bfe",
   "metadata": {},
   "outputs": [
    {
     "data": {
      "text/html": [
       "<div>\n",
       "<style scoped>\n",
       "    .dataframe tbody tr th:only-of-type {\n",
       "        vertical-align: middle;\n",
       "    }\n",
       "\n",
       "    .dataframe tbody tr th {\n",
       "        vertical-align: top;\n",
       "    }\n",
       "\n",
       "    .dataframe thead th {\n",
       "        text-align: right;\n",
       "    }\n",
       "</style>\n",
       "<table border=\"1\" class=\"dataframe\">\n",
       "  <thead>\n",
       "    <tr style=\"text-align: right;\">\n",
       "      <th></th>\n",
       "      <th>Sales Date</th>\n",
       "      <th>Category</th>\n",
       "      <th>Value</th>\n",
       "      <th>Product</th>\n",
       "      <th>Sales</th>\n",
       "      <th>Region</th>\n",
       "      <th>Sales_fill</th>\n",
       "      <th>Product_fill</th>\n",
       "      <th>New_value</th>\n",
       "    </tr>\n",
       "  </thead>\n",
       "  <tbody>\n",
       "    <tr>\n",
       "      <th>0</th>\n",
       "      <td>2023-01-01</td>\n",
       "      <td>A</td>\n",
       "      <td>28.0</td>\n",
       "      <td>Product1</td>\n",
       "      <td>754.0</td>\n",
       "      <td>NaN</td>\n",
       "      <td>754.0</td>\n",
       "      <td>Product1</td>\n",
       "      <td>28</td>\n",
       "    </tr>\n",
       "    <tr>\n",
       "      <th>1</th>\n",
       "      <td>2023-01-02</td>\n",
       "      <td>B</td>\n",
       "      <td>NaN</td>\n",
       "      <td>NaN</td>\n",
       "      <td>110.0</td>\n",
       "      <td>North</td>\n",
       "      <td>110.0</td>\n",
       "      <td>Product3</td>\n",
       "      <td>52</td>\n",
       "    </tr>\n",
       "    <tr>\n",
       "      <th>2</th>\n",
       "      <td>2023-01-03</td>\n",
       "      <td>C</td>\n",
       "      <td>32.0</td>\n",
       "      <td>Product2</td>\n",
       "      <td>398.0</td>\n",
       "      <td>East</td>\n",
       "      <td>398.0</td>\n",
       "      <td>Product2</td>\n",
       "      <td>32</td>\n",
       "    </tr>\n",
       "    <tr>\n",
       "      <th>3</th>\n",
       "      <td>2023-01-04</td>\n",
       "      <td>B</td>\n",
       "      <td>8.0</td>\n",
       "      <td>NaN</td>\n",
       "      <td>522.0</td>\n",
       "      <td>East</td>\n",
       "      <td>522.0</td>\n",
       "      <td>Product3</td>\n",
       "      <td>8</td>\n",
       "    </tr>\n",
       "    <tr>\n",
       "      <th>4</th>\n",
       "      <td>2023-01-05</td>\n",
       "      <td>B</td>\n",
       "      <td>26.0</td>\n",
       "      <td>Product3</td>\n",
       "      <td>869.0</td>\n",
       "      <td>North</td>\n",
       "      <td>869.0</td>\n",
       "      <td>Product3</td>\n",
       "      <td>26</td>\n",
       "    </tr>\n",
       "  </tbody>\n",
       "</table>\n",
       "</div>"
      ],
      "text/plain": [
       "   Sales Date Category  Value   Product  Sales Region  Sales_fill  \\\n",
       "0  2023-01-01        A   28.0  Product1  754.0    NaN       754.0   \n",
       "1  2023-01-02        B    NaN       NaN  110.0  North       110.0   \n",
       "2  2023-01-03        C   32.0  Product2  398.0   East       398.0   \n",
       "3  2023-01-04        B    8.0       NaN  522.0   East       522.0   \n",
       "4  2023-01-05        B   26.0  Product3  869.0  North       869.0   \n",
       "\n",
       "  Product_fill  New_value  \n",
       "0     Product1         28  \n",
       "1     Product3         52  \n",
       "2     Product2         32  \n",
       "3     Product3          8  \n",
       "4     Product3         26  "
      ]
     },
     "execution_count": 82,
     "metadata": {},
     "output_type": "execute_result"
    }
   ],
   "source": [
    "# change data type\n",
    "df['New_value']= df['Value'].fillna(df['Value'].mean()).astype(int)\n",
    "df.head(5)\n"
   ]
  },
  {
   "cell_type": "code",
   "execution_count": 83,
   "id": "7fe8f6d8",
   "metadata": {},
   "outputs": [
    {
     "data": {
      "text/html": [
       "<div>\n",
       "<style scoped>\n",
       "    .dataframe tbody tr th:only-of-type {\n",
       "        vertical-align: middle;\n",
       "    }\n",
       "\n",
       "    .dataframe tbody tr th {\n",
       "        vertical-align: top;\n",
       "    }\n",
       "\n",
       "    .dataframe thead th {\n",
       "        text-align: right;\n",
       "    }\n",
       "</style>\n",
       "<table border=\"1\" class=\"dataframe\">\n",
       "  <thead>\n",
       "    <tr style=\"text-align: right;\">\n",
       "      <th></th>\n",
       "      <th>Sales Date</th>\n",
       "      <th>Category</th>\n",
       "      <th>Value</th>\n",
       "      <th>Product</th>\n",
       "      <th>Sales</th>\n",
       "      <th>Region</th>\n",
       "      <th>Sales_fill</th>\n",
       "      <th>Product_fill</th>\n",
       "      <th>New_value</th>\n",
       "      <th>Price</th>\n",
       "    </tr>\n",
       "  </thead>\n",
       "  <tbody>\n",
       "    <tr>\n",
       "      <th>0</th>\n",
       "      <td>2023-01-01</td>\n",
       "      <td>A</td>\n",
       "      <td>28.0</td>\n",
       "      <td>Product1</td>\n",
       "      <td>754.0</td>\n",
       "      <td>NaN</td>\n",
       "      <td>754.0</td>\n",
       "      <td>Product1</td>\n",
       "      <td>28</td>\n",
       "      <td>34.552</td>\n",
       "    </tr>\n",
       "    <tr>\n",
       "      <th>1</th>\n",
       "      <td>2023-01-02</td>\n",
       "      <td>B</td>\n",
       "      <td>NaN</td>\n",
       "      <td>NaN</td>\n",
       "      <td>110.0</td>\n",
       "      <td>North</td>\n",
       "      <td>110.0</td>\n",
       "      <td>Product3</td>\n",
       "      <td>52</td>\n",
       "      <td>64.168</td>\n",
       "    </tr>\n",
       "    <tr>\n",
       "      <th>2</th>\n",
       "      <td>2023-01-03</td>\n",
       "      <td>C</td>\n",
       "      <td>32.0</td>\n",
       "      <td>Product2</td>\n",
       "      <td>398.0</td>\n",
       "      <td>East</td>\n",
       "      <td>398.0</td>\n",
       "      <td>Product2</td>\n",
       "      <td>32</td>\n",
       "      <td>39.488</td>\n",
       "    </tr>\n",
       "    <tr>\n",
       "      <th>3</th>\n",
       "      <td>2023-01-04</td>\n",
       "      <td>B</td>\n",
       "      <td>8.0</td>\n",
       "      <td>NaN</td>\n",
       "      <td>522.0</td>\n",
       "      <td>East</td>\n",
       "      <td>522.0</td>\n",
       "      <td>Product3</td>\n",
       "      <td>8</td>\n",
       "      <td>9.872</td>\n",
       "    </tr>\n",
       "    <tr>\n",
       "      <th>4</th>\n",
       "      <td>2023-01-05</td>\n",
       "      <td>B</td>\n",
       "      <td>26.0</td>\n",
       "      <td>Product3</td>\n",
       "      <td>869.0</td>\n",
       "      <td>North</td>\n",
       "      <td>869.0</td>\n",
       "      <td>Product3</td>\n",
       "      <td>26</td>\n",
       "      <td>32.084</td>\n",
       "    </tr>\n",
       "  </tbody>\n",
       "</table>\n",
       "</div>"
      ],
      "text/plain": [
       "   Sales Date Category  Value   Product  Sales Region  Sales_fill  \\\n",
       "0  2023-01-01        A   28.0  Product1  754.0    NaN       754.0   \n",
       "1  2023-01-02        B    NaN       NaN  110.0  North       110.0   \n",
       "2  2023-01-03        C   32.0  Product2  398.0   East       398.0   \n",
       "3  2023-01-04        B    8.0       NaN  522.0   East       522.0   \n",
       "4  2023-01-05        B   26.0  Product3  869.0  North       869.0   \n",
       "\n",
       "  Product_fill  New_value   Price  \n",
       "0     Product1         28  34.552  \n",
       "1     Product3         52  64.168  \n",
       "2     Product2         32  39.488  \n",
       "3     Product3          8   9.872  \n",
       "4     Product3         26  32.084  "
      ]
     },
     "execution_count": 83,
     "metadata": {},
     "output_type": "execute_result"
    }
   ],
   "source": [
    "df['Price']= df['New_value'].apply(lambda x:x*1.234)\n",
    "df.head(5)"
   ]
  },
  {
   "cell_type": "code",
   "execution_count": 85,
   "id": "ee9cb4c2",
   "metadata": {},
   "outputs": [],
   "source": [
    "df[\"Sales Date\"]= pd.to_datetime(df[\"Sales Date\"])"
   ]
  },
  {
   "cell_type": "code",
   "execution_count": 95,
   "id": "62df420d",
   "metadata": {},
   "outputs": [
    {
     "data": {
      "text/plain": [
       "Sales Date      datetime64[ns]\n",
       "Category                object\n",
       "Value                  float64\n",
       "Product                 object\n",
       "Sales                  float64\n",
       "Region                  object\n",
       "Sales_fill             float64\n",
       "Product_fill            object\n",
       "New_value                int64\n",
       "Price                  float64\n",
       "dtype: object"
      ]
     },
     "execution_count": 95,
     "metadata": {},
     "output_type": "execute_result"
    }
   ],
   "source": [
    "df.head(5)\n",
    "df.dtypes"
   ]
  },
  {
   "cell_type": "code",
   "execution_count": null,
   "id": "7a92cf3d",
   "metadata": {},
   "outputs": [],
   "source": [
    "# data aggregation and grouping\n",
    "grouped_product= df.groupby('Product')['Value'].sum()"
   ]
  },
  {
   "cell_type": "code",
   "execution_count": 93,
   "id": "bcda3234",
   "metadata": {},
   "outputs": [
    {
     "name": "stdout",
     "output_type": "stream",
     "text": [
      "Product\n",
      "Product1    49.153846\n",
      "Product2    52.800000\n",
      "Product3    56.117647\n",
      "Name: Value, dtype: float64\n"
     ]
    }
   ],
   "source": [
    "print(grouped_product)"
   ]
  },
  {
   "cell_type": "code",
   "execution_count": 104,
   "id": "efc95e8d",
   "metadata": {},
   "outputs": [
    {
     "name": "stdout",
     "output_type": "stream",
     "text": [
      "Product   Region\n",
      "Product1  East      256.0\n",
      "          North       9.0\n",
      "          South     100.0\n",
      "          West      246.0\n",
      "Product2  East       56.0\n",
      "          North     127.0\n",
      "          South     181.0\n",
      "          West      428.0\n",
      "Product3  East      202.0\n",
      "          North     164.0\n",
      "          South     215.0\n",
      "          West      373.0\n",
      "Name: Value, dtype: float64\n"
     ]
    }
   ],
   "source": [
    "group1=df.groupby(['Product','Region'])['Value'].sum()\n",
    "print(group1)\n"
   ]
  },
  {
   "cell_type": "code",
   "execution_count": 108,
   "id": "05a1f88d",
   "metadata": {},
   "outputs": [
    {
     "name": "stdout",
     "output_type": "stream",
     "text": [
      "           sum       mean   max\n",
      "Region                         \n",
      "East     522.0  43.500000  97.0\n",
      "North    300.0  37.500000  71.0\n",
      "South    496.0  62.000000  94.0\n",
      "West    1047.0  61.588235  99.0\n"
     ]
    }
   ],
   "source": [
    "groupByRegion= df.groupby('Region')['Value'].agg(['sum','mean','max'])\n",
    "print(groupByRegion)"
   ]
  },
  {
   "cell_type": "code",
   "execution_count": 109,
   "id": "85859587",
   "metadata": {},
   "outputs": [
    {
     "name": "stdout",
     "output_type": "stream",
     "text": [
      "  key  value1\n",
      "0   A       1\n",
      "1   B       2\n",
      "2   C       3\n",
      "3   D       4\n",
      "  key  value2\n",
      "0   B       5\n",
      "1   C       6\n",
      "2   D       7\n",
      "3   E       8\n"
     ]
    }
   ],
   "source": [
    "#merge and join df\n",
    "df1= pd.DataFrame({\n",
    "    'key':['A','B','C','D'],\n",
    "    'value1':[1,2,3,4]\n",
    "})\n",
    "df2= pd.DataFrame({\n",
    "    'key':['B','C','D','E'],  \n",
    "    'value2':[5,6,7,8]\n",
    "})\n",
    "print(df1)\n",
    "print(df2)"
   ]
  },
  {
   "cell_type": "code",
   "execution_count": 110,
   "id": "01705869",
   "metadata": {},
   "outputs": [
    {
     "data": {
      "text/html": [
       "<div>\n",
       "<style scoped>\n",
       "    .dataframe tbody tr th:only-of-type {\n",
       "        vertical-align: middle;\n",
       "    }\n",
       "\n",
       "    .dataframe tbody tr th {\n",
       "        vertical-align: top;\n",
       "    }\n",
       "\n",
       "    .dataframe thead th {\n",
       "        text-align: right;\n",
       "    }\n",
       "</style>\n",
       "<table border=\"1\" class=\"dataframe\">\n",
       "  <thead>\n",
       "    <tr style=\"text-align: right;\">\n",
       "      <th></th>\n",
       "      <th>key</th>\n",
       "      <th>value1</th>\n",
       "      <th>value2</th>\n",
       "    </tr>\n",
       "  </thead>\n",
       "  <tbody>\n",
       "    <tr>\n",
       "      <th>0</th>\n",
       "      <td>B</td>\n",
       "      <td>2</td>\n",
       "      <td>5</td>\n",
       "    </tr>\n",
       "    <tr>\n",
       "      <th>1</th>\n",
       "      <td>C</td>\n",
       "      <td>3</td>\n",
       "      <td>6</td>\n",
       "    </tr>\n",
       "    <tr>\n",
       "      <th>2</th>\n",
       "      <td>D</td>\n",
       "      <td>4</td>\n",
       "      <td>7</td>\n",
       "    </tr>\n",
       "  </tbody>\n",
       "</table>\n",
       "</div>"
      ],
      "text/plain": [
       "  key  value1  value2\n",
       "0   B       2       5\n",
       "1   C       3       6\n",
       "2   D       4       7"
      ]
     },
     "execution_count": 110,
     "metadata": {},
     "output_type": "execute_result"
    }
   ],
   "source": [
    "pd.merge(df1, df2, on ='key', how='inner')  # inner join"
   ]
  },
  {
   "cell_type": "code",
   "execution_count": 111,
   "id": "c630193b",
   "metadata": {},
   "outputs": [
    {
     "data": {
      "text/html": [
       "<div>\n",
       "<style scoped>\n",
       "    .dataframe tbody tr th:only-of-type {\n",
       "        vertical-align: middle;\n",
       "    }\n",
       "\n",
       "    .dataframe tbody tr th {\n",
       "        vertical-align: top;\n",
       "    }\n",
       "\n",
       "    .dataframe thead th {\n",
       "        text-align: right;\n",
       "    }\n",
       "</style>\n",
       "<table border=\"1\" class=\"dataframe\">\n",
       "  <thead>\n",
       "    <tr style=\"text-align: right;\">\n",
       "      <th></th>\n",
       "      <th>key</th>\n",
       "      <th>value1</th>\n",
       "      <th>value2</th>\n",
       "    </tr>\n",
       "  </thead>\n",
       "  <tbody>\n",
       "    <tr>\n",
       "      <th>0</th>\n",
       "      <td>A</td>\n",
       "      <td>1.0</td>\n",
       "      <td>NaN</td>\n",
       "    </tr>\n",
       "    <tr>\n",
       "      <th>1</th>\n",
       "      <td>B</td>\n",
       "      <td>2.0</td>\n",
       "      <td>5.0</td>\n",
       "    </tr>\n",
       "    <tr>\n",
       "      <th>2</th>\n",
       "      <td>C</td>\n",
       "      <td>3.0</td>\n",
       "      <td>6.0</td>\n",
       "    </tr>\n",
       "    <tr>\n",
       "      <th>3</th>\n",
       "      <td>D</td>\n",
       "      <td>4.0</td>\n",
       "      <td>7.0</td>\n",
       "    </tr>\n",
       "    <tr>\n",
       "      <th>4</th>\n",
       "      <td>E</td>\n",
       "      <td>NaN</td>\n",
       "      <td>8.0</td>\n",
       "    </tr>\n",
       "  </tbody>\n",
       "</table>\n",
       "</div>"
      ],
      "text/plain": [
       "  key  value1  value2\n",
       "0   A     1.0     NaN\n",
       "1   B     2.0     5.0\n",
       "2   C     3.0     6.0\n",
       "3   D     4.0     7.0\n",
       "4   E     NaN     8.0"
      ]
     },
     "execution_count": 111,
     "metadata": {},
     "output_type": "execute_result"
    }
   ],
   "source": [
    "pd.merge(df1, df2, on ='key', how='outer')  # outer join\n"
   ]
  },
  {
   "cell_type": "code",
   "execution_count": 114,
   "id": "6c0c494c",
   "metadata": {},
   "outputs": [
    {
     "data": {
      "text/html": [
       "<div>\n",
       "<style scoped>\n",
       "    .dataframe tbody tr th:only-of-type {\n",
       "        vertical-align: middle;\n",
       "    }\n",
       "\n",
       "    .dataframe tbody tr th {\n",
       "        vertical-align: top;\n",
       "    }\n",
       "\n",
       "    .dataframe thead th {\n",
       "        text-align: right;\n",
       "    }\n",
       "</style>\n",
       "<table border=\"1\" class=\"dataframe\">\n",
       "  <thead>\n",
       "    <tr style=\"text-align: right;\">\n",
       "      <th></th>\n",
       "      <th>key</th>\n",
       "      <th>value1</th>\n",
       "      <th>value2</th>\n",
       "    </tr>\n",
       "  </thead>\n",
       "  <tbody>\n",
       "    <tr>\n",
       "      <th>0</th>\n",
       "      <td>A</td>\n",
       "      <td>1</td>\n",
       "      <td>NaN</td>\n",
       "    </tr>\n",
       "    <tr>\n",
       "      <th>1</th>\n",
       "      <td>B</td>\n",
       "      <td>2</td>\n",
       "      <td>5.0</td>\n",
       "    </tr>\n",
       "    <tr>\n",
       "      <th>2</th>\n",
       "      <td>C</td>\n",
       "      <td>3</td>\n",
       "      <td>6.0</td>\n",
       "    </tr>\n",
       "    <tr>\n",
       "      <th>3</th>\n",
       "      <td>D</td>\n",
       "      <td>4</td>\n",
       "      <td>7.0</td>\n",
       "    </tr>\n",
       "  </tbody>\n",
       "</table>\n",
       "</div>"
      ],
      "text/plain": [
       "  key  value1  value2\n",
       "0   A       1     NaN\n",
       "1   B       2     5.0\n",
       "2   C       3     6.0\n",
       "3   D       4     7.0"
      ]
     },
     "execution_count": 114,
     "metadata": {},
     "output_type": "execute_result"
    }
   ],
   "source": [
    "pd.merge(df1, df2, on ='key', how='left')  # left join\n"
   ]
  },
  {
   "cell_type": "code",
   "execution_count": 115,
   "id": "8e785cd2",
   "metadata": {},
   "outputs": [
    {
     "data": {
      "text/html": [
       "<div>\n",
       "<style scoped>\n",
       "    .dataframe tbody tr th:only-of-type {\n",
       "        vertical-align: middle;\n",
       "    }\n",
       "\n",
       "    .dataframe tbody tr th {\n",
       "        vertical-align: top;\n",
       "    }\n",
       "\n",
       "    .dataframe thead th {\n",
       "        text-align: right;\n",
       "    }\n",
       "</style>\n",
       "<table border=\"1\" class=\"dataframe\">\n",
       "  <thead>\n",
       "    <tr style=\"text-align: right;\">\n",
       "      <th></th>\n",
       "      <th>key</th>\n",
       "      <th>value1</th>\n",
       "      <th>value2</th>\n",
       "    </tr>\n",
       "  </thead>\n",
       "  <tbody>\n",
       "    <tr>\n",
       "      <th>0</th>\n",
       "      <td>B</td>\n",
       "      <td>2.0</td>\n",
       "      <td>5</td>\n",
       "    </tr>\n",
       "    <tr>\n",
       "      <th>1</th>\n",
       "      <td>C</td>\n",
       "      <td>3.0</td>\n",
       "      <td>6</td>\n",
       "    </tr>\n",
       "    <tr>\n",
       "      <th>2</th>\n",
       "      <td>D</td>\n",
       "      <td>4.0</td>\n",
       "      <td>7</td>\n",
       "    </tr>\n",
       "    <tr>\n",
       "      <th>3</th>\n",
       "      <td>E</td>\n",
       "      <td>NaN</td>\n",
       "      <td>8</td>\n",
       "    </tr>\n",
       "  </tbody>\n",
       "</table>\n",
       "</div>"
      ],
      "text/plain": [
       "  key  value1  value2\n",
       "0   B     2.0       5\n",
       "1   C     3.0       6\n",
       "2   D     4.0       7\n",
       "3   E     NaN       8"
      ]
     },
     "execution_count": 115,
     "metadata": {},
     "output_type": "execute_result"
    }
   ],
   "source": [
    "pd.merge(df1, df2, on ='key', how='right')  # right join\n"
   ]
  },
  {
   "cell_type": "code",
   "execution_count": null,
   "id": "2151e28d",
   "metadata": {},
   "outputs": [],
   "source": [
    " "
   ]
  }
 ],
 "metadata": {
  "kernelspec": {
   "display_name": "venv",
   "language": "python",
   "name": "python3"
  },
  "language_info": {
   "codemirror_mode": {
    "name": "ipython",
    "version": 3
   },
   "file_extension": ".py",
   "mimetype": "text/x-python",
   "name": "python",
   "nbconvert_exporter": "python",
   "pygments_lexer": "ipython3",
   "version": "3.9.6"
  }
 },
 "nbformat": 4,
 "nbformat_minor": 5
}
