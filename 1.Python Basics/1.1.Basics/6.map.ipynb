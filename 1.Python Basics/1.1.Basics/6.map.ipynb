{
 "cells": [
  {
   "cell_type": "code",
   "execution_count": 2,
   "id": "c756f3cc",
   "metadata": {},
   "outputs": [
    {
     "name": "stdout",
     "output_type": "stream",
     "text": [
      "['APPLE', 'BALL', 'CAT']\n"
     ]
    }
   ],
   "source": [
    "words=['apple', 'ball' ,'cat']\n",
    "upper_words=list(map(str.upper,words))\n",
    "print(upper_words)"
   ]
  },
  {
   "cell_type": "code",
   "execution_count": 4,
   "id": "fe812bef",
   "metadata": {},
   "outputs": [
    {
     "data": {
      "text/plain": [
       "['APPLE', 'BALL', 'CAT']"
      ]
     },
     "execution_count": 4,
     "metadata": {},
     "output_type": "execute_result"
    }
   ],
   "source": [
    "upper= lambda x:x.upper()\n",
    "upper_words=list(map(upper, words))\n",
    "upper_words"
   ]
  },
  {
   "cell_type": "code",
   "execution_count": null,
   "id": "ea976493",
   "metadata": {},
   "outputs": [],
   "source": []
  }
 ],
 "metadata": {
  "kernelspec": {
   "display_name": "venv",
   "language": "python",
   "name": "python3"
  },
  "language_info": {
   "codemirror_mode": {
    "name": "ipython",
    "version": 3
   },
   "file_extension": ".py",
   "mimetype": "text/x-python",
   "name": "python",
   "nbconvert_exporter": "python",
   "pygments_lexer": "ipython3",
   "version": "3.9.6"
  }
 },
 "nbformat": 4,
 "nbformat_minor": 5
}
