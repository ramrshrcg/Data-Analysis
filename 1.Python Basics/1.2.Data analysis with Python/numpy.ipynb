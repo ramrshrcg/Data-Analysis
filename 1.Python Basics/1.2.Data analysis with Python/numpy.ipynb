{
 "cells": [
  {
   "cell_type": "code",
   "execution_count": 1,
   "id": "05a585ab",
   "metadata": {},
   "outputs": [],
   "source": [
    "import numpy as np"
   ]
  },
  {
   "cell_type": "code",
   "execution_count": 2,
   "id": "071a6de2",
   "metadata": {},
   "outputs": [
    {
     "name": "stdout",
     "output_type": "stream",
     "text": [
      "[1 2 3 4 5]\n"
     ]
    }
   ],
   "source": [
    "# create a 1d array \n",
    "arr1= np.array([1,2,3,4,5])\n",
    "print(arr1)"
   ]
  },
  {
   "cell_type": "code",
   "execution_count": 3,
   "id": "4adecd47",
   "metadata": {},
   "outputs": [
    {
     "name": "stdout",
     "output_type": "stream",
     "text": [
      "<class 'numpy.ndarray'>\n",
      "(5,)\n",
      "1\n",
      "5\n",
      "int64\n"
     ]
    }
   ],
   "source": [
    "print(type(arr1))  # <class 'numpy.ndarray'>\n",
    "print(arr1.shape) # (5,)\n",
    "print(arr1.ndim)  # 1\n",
    "print(arr1.size)  # 5\n",
    "print(arr1.dtype) # int64"
   ]
  },
  {
   "cell_type": "code",
   "execution_count": 4,
   "id": "720e4f23",
   "metadata": {},
   "outputs": [
    {
     "name": "stdout",
     "output_type": "stream",
     "text": [
      "[[1 2 3]\n",
      " [4 5 6]]\n",
      "<class 'numpy.ndarray'>\n",
      "(2, 3)\n",
      "2\n",
      "6\n",
      "int64\n"
     ]
    }
   ],
   "source": [
    "arr2 = np.array([[1,2,3],[4,5,6]])\n",
    "print(arr2)\n",
    "print(type(arr2))  # <class 'numpy.ndarray'>\n",
    "print(arr2.shape) # (2, 3)\n",
    "print(arr2.ndim)  # 2\n",
    "print(arr2.size)  # 6\n",
    "print(arr2.dtype) # int64"
   ]
  },
  {
   "cell_type": "code",
   "execution_count": 5,
   "id": "02416fa2",
   "metadata": {},
   "outputs": [
    {
     "name": "stdout",
     "output_type": "stream",
     "text": [
      "[[1 2 3 4 5]]\n",
      "(1, 5)\n",
      "2\n",
      "[[1]\n",
      " [2]\n",
      " [3]\n",
      " [4]\n",
      " [5]]\n"
     ]
    }
   ],
   "source": [
    "arr3= np.array([1,2,3,4,5])\n",
    "arr3= arr3.reshape(1,5) # reshaping 1D array to 2D array with 1 row and 5 columns\n",
    "print(arr3)\n",
    "print(arr3.shape)\n",
    "print(arr3.ndim)\n",
    "arr3= arr3.reshape(5,1) # reshaping 1D array to 2D array with 5 rows and 1 column\n",
    "print(arr3)\n"
   ]
  },
  {
   "cell_type": "code",
   "execution_count": 6,
   "id": "47ccb48f",
   "metadata": {},
   "outputs": [
    {
     "name": "stdout",
     "output_type": "stream",
     "text": [
      "[[1 2 3]\n",
      " [4 5 6]\n",
      " [7 8 9]\n",
      " [1 2 3]]\n",
      "(4, 3)\n"
     ]
    }
   ],
   "source": [
    "arr4= np.array([[1,2,3],[4,5,6],[7,8,9],[1,2,3]])\n",
    "print(arr4)\n",
    "print(arr4.shape)"
   ]
  },
  {
   "cell_type": "code",
   "execution_count": 7,
   "id": "8904b31a",
   "metadata": {},
   "outputs": [
    {
     "name": "stdout",
     "output_type": "stream",
     "text": [
      "[[[1 2 3]\n",
      "  [4 5 6]]\n",
      "\n",
      " [[7 8 9]\n",
      "  [1 2 3]]\n",
      "\n",
      " [[4 5 6]\n",
      "  [7 8 9]]]\n",
      "(3, 2, 3)\n"
     ]
    }
   ],
   "source": [
    "#3d array\n",
    "arr5= np.array([[[1,2,3],[4,5,6]],[[7,8,9],[1,2,3]],[[4,5,6],[7,8,9]]])\n",
    "print(arr5)\n",
    "print(arr5.shape) # (3, 2, 3)"
   ]
  },
  {
   "cell_type": "code",
   "execution_count": 8,
   "id": "ae90105e",
   "metadata": {},
   "outputs": [
    {
     "name": "stdout",
     "output_type": "stream",
     "text": [
      "4\n"
     ]
    }
   ],
   "source": [
    "print(arr5[0][1][0])"
   ]
  },
  {
   "cell_type": "code",
   "execution_count": 9,
   "id": "ec622807",
   "metadata": {},
   "outputs": [
    {
     "name": "stdout",
     "output_type": "stream",
     "text": [
      "[[ 0]\n",
      " [ 3]\n",
      " [ 6]\n",
      " [ 9]\n",
      " [12]]\n"
     ]
    }
   ],
   "source": [
    "print(np.arange(0,15,3).reshape(5,1)) # start, stop, step\n"
   ]
  },
  {
   "cell_type": "code",
   "execution_count": 10,
   "id": "dd1b91e4",
   "metadata": {},
   "outputs": [
    {
     "name": "stdout",
     "output_type": "stream",
     "text": [
      "[[1. 1.]\n",
      " [1. 1.]]\n",
      "[[0. 0. 0.]\n",
      " [0. 0. 0.]\n",
      " [0. 0. 0.]]\n",
      "[[8.38426667e-01 3.10512798e-01 9.82467939e-02]\n",
      " [3.68114769e-01 6.90379523e-01 2.46603905e-04]]\n"
     ]
    }
   ],
   "source": [
    "#some inbuilt functions in numpy\n",
    "print(np.ones((2,2))) # 2x2 array of all ones uses in some ML algorithms where we need to initialize weights to 1 \n",
    "print(np.zeros((3,3))) # 3x3 array of all zeros\n",
    "print(np.random.rand(2,3)) # 2x3 array of random numbers between"
   ]
  },
  {
   "cell_type": "code",
   "execution_count": 11,
   "id": "81efc2c1",
   "metadata": {},
   "outputs": [
    {
     "name": "stdout",
     "output_type": "stream",
     "text": [
      "[[1. 0. 0.]\n",
      " [0. 1. 0.]\n",
      " [0. 0. 1.]]\n"
     ]
    }
   ],
   "source": [
    "print(np.eye(3)) # 3x3 identity matrix\n"
   ]
  },
  {
   "cell_type": "code",
   "execution_count": 12,
   "id": "5e15afa6",
   "metadata": {},
   "outputs": [
    {
     "name": "stdout",
     "output_type": "stream",
     "text": [
      "[ 6  8 10 12]\n",
      "[ 5 12 21 32]\n",
      "[ 1  4  9 16]\n"
     ]
    }
   ],
   "source": [
    "# vectorized operations\n",
    "\n",
    "a= np.array([1,2,3,4])\n",
    "b= np.array([5,6,7,8])\n",
    "print(a + b)\n",
    "print(a * b)\n",
    "print(a ** 2)"
   ]
  },
  {
   "cell_type": "code",
   "execution_count": 13,
   "id": "06ddd879",
   "metadata": {},
   "outputs": [
    {
     "name": "stdout",
     "output_type": "stream",
     "text": [
      "[1. 2. 3. 4.]\n",
      "[0.         1.38629436 2.19722458 2.77258872]\n",
      "[2.71828183e+00 5.45981500e+01 8.10308393e+03 8.88611052e+06]\n",
      "[ 0.84147098 -0.7568025   0.41211849 -0.28790332]\n",
      "[ 0.54030231 -0.65364362 -0.91113026 -0.95765948]\n",
      "[ 1.55740772  1.15782128 -0.45231566  0.30063224]\n"
     ]
    }
   ],
   "source": [
    "# universal fns\n",
    "a=[1,4,9,16]\n",
    "print(np.sqrt(a))\n",
    "print(np.log(a))\n",
    "print(np.exp(a))\n",
    "print(np.sin(a))\n",
    "print(np.cos(a))\n",
    "print(np.tan(a))    \n"
   ]
  },
  {
   "cell_type": "code",
   "execution_count": 14,
   "id": "91a8e576",
   "metadata": {},
   "outputs": [
    {
     "name": "stdout",
     "output_type": "stream",
     "text": [
      "[[ 1  2  3  4  5]\n",
      " [ 6  7  8  9 10]\n",
      " [11 12 13 14 15]]\n"
     ]
    }
   ],
   "source": [
    "# srray slicing and indexing\n",
    "arr= np.array([[1,2,3,4,5],[6,7,8,9,10],[11,12,13,14,15]])\n",
    "print(arr)"
   ]
  },
  {
   "cell_type": "code",
   "execution_count": 15,
   "id": "f5ae7287",
   "metadata": {},
   "outputs": [
    {
     "name": "stdout",
     "output_type": "stream",
     "text": [
      "8\n"
     ]
    }
   ],
   "source": [
    "print(arr[1][2])"
   ]
  },
  {
   "cell_type": "code",
   "execution_count": 16,
   "id": "4a3e4aed",
   "metadata": {},
   "outputs": [
    {
     "name": "stdout",
     "output_type": "stream",
     "text": [
      "[[ 8  9 10]\n",
      " [13 14 15]]\n"
     ]
    }
   ],
   "source": [
    "print(arr[1:,2:])"
   ]
  },
  {
   "cell_type": "code",
   "execution_count": 17,
   "id": "b51da7ed",
   "metadata": {},
   "outputs": [
    {
     "name": "stdout",
     "output_type": "stream",
     "text": [
      "[[ 3  4  5]\n",
      " [ 8  9 10]]\n"
     ]
    }
   ],
   "source": [
    "print(arr[:2,2:])"
   ]
  },
  {
   "cell_type": "code",
   "execution_count": 18,
   "id": "feca4bc0",
   "metadata": {},
   "outputs": [
    {
     "name": "stdout",
     "output_type": "stream",
     "text": [
      "Normalized Data: [-1.5666989  -1.21854359 -0.87038828 -0.52223297 -0.17407766  0.17407766\n",
      "  0.52223297  0.87038828  1.21854359  1.5666989 ]\n"
     ]
    }
   ],
   "source": [
    "#statistical operations\n",
    "data= np.array([1 ,2,3,4,5,6,7,8,9,10])\n",
    "mean= np.mean(data) \n",
    "median= np.median(data)\n",
    "std= np.std(data)\n",
    "\n",
    "\n",
    "\n",
    "normalized_data= (data - mean) / std\n",
    "print(\"Normalized Data:\", normalized_data)"
   ]
  },
  {
   "cell_type": "code",
   "execution_count": 19,
   "id": "a133b4af",
   "metadata": {},
   "outputs": [
    {
     "name": "stdout",
     "output_type": "stream",
     "text": [
      "Mean: 5.5\n",
      "Median: 5.5\n",
      "Standard Deviation: 2.8722813232690143\n",
      "Variance: 8.25\n",
      "Sum: 55\n",
      "Min: 1\n",
      "Max: 10\n"
     ]
    }
   ],
   "source": [
    "var= np.var(data)\n",
    "sum= np.sum(data)\n",
    "min= np.min(data)\n",
    "max= np.max(data)\n",
    "\n",
    "print(\"Mean:\", mean)\n",
    "print(\"Median:\", median)\n",
    "print(\"Standard Deviation:\", std)       \n",
    "print(\"Variance:\", var)\n",
    "print(\"Sum:\", sum)\n",
    "print(\"Min:\", min)\n",
    "print(\"Max:\", max)"
   ]
  },
  {
   "cell_type": "code",
   "execution_count": 24,
   "id": "434317d7",
   "metadata": {},
   "outputs": [
    {
     "data": {
      "text/plain": [
       "array([False, False, False, False, False,  True,  True,  True,  True,\n",
       "        True])"
      ]
     },
     "execution_count": 24,
     "metadata": {},
     "output_type": "execute_result"
    }
   ],
   "source": [
    "data= np.array([1 ,2,3,4,5,6,7,8,9,10])\n",
    "\n",
    "data>5\n"
   ]
  },
  {
   "cell_type": "code",
   "execution_count": 25,
   "id": "44ffb47e",
   "metadata": {},
   "outputs": [
    {
     "name": "stdout",
     "output_type": "stream",
     "text": [
      "[5 6 7 8]\n"
     ]
    }
   ],
   "source": [
    "data= data[(data>=5) & (data<=8)]\n",
    "print(data)"
   ]
  },
  {
   "cell_type": "code",
   "execution_count": null,
   "id": "2aa691e9",
   "metadata": {},
   "outputs": [],
   "source": []
  }
 ],
 "metadata": {
  "kernelspec": {
   "display_name": "venv",
   "language": "python",
   "name": "python3"
  },
  "language_info": {
   "codemirror_mode": {
    "name": "ipython",
    "version": 3
   },
   "file_extension": ".py",
   "mimetype": "text/x-python",
   "name": "python",
   "nbconvert_exporter": "python",
   "pygments_lexer": "ipython3",
   "version": "3.9.6"
  }
 },
 "nbformat": 4,
 "nbformat_minor": 5
}
